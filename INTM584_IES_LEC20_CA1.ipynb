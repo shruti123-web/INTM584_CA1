{
  "nbformat": 4,
  "nbformat_minor": 0,
  "metadata": {
    "colab": {
      "provenance": [],
      "authorship_tag": "ABX9TyObKTL4SeOYYzaH91bXsDwd",
      "include_colab_link": true
    },
    "kernelspec": {
      "name": "python3",
      "display_name": "Python 3"
    },
    "language_info": {
      "name": "python"
    }
  },
  "cells": [
    {
      "cell_type": "markdown",
      "metadata": {
        "id": "view-in-github",
        "colab_type": "text"
      },
      "source": [
        "<a href=\"https://colab.research.google.com/github/shruti123-web/INTM584_CA1/blob/main/INTM584_IES_LEC20_CA1.ipynb\" target=\"_parent\"><img src=\"https://colab.research.google.com/assets/colab-badge.svg\" alt=\"Open In Colab\"/></a>"
      ]
    },
    {
      "cell_type": "markdown",
      "source": [
        "**IMPORTING THE DATASET**"
      ],
      "metadata": {
        "id": "RDdoih4kqu4m"
      }
    },
    {
      "cell_type": "code",
      "execution_count": 6,
      "metadata": {
        "colab": {
          "base_uri": "https://localhost:8080/",
          "height": 1000
        },
        "id": "4KopDarCD0ge",
        "outputId": "dd6e3dc8-8a67-4cc6-887b-f1ae9ab37776"
      },
      "outputs": [
        {
          "output_type": "execute_result",
          "data": {
            "text/plain": [
              "       Sales  BOROUGH        NEIGHBORHOOD  \\\n",
              "0          4        1       ALPHABET CITY   \n",
              "1          5        1       ALPHABET CITY   \n",
              "2          6        1       ALPHABET CITY   \n",
              "3          7        1       ALPHABET CITY   \n",
              "4          8        1       ALPHABET CITY   \n",
              "...      ...      ...                 ...   \n",
              "27285   1934        3  BEDFORD STUYVESANT   \n",
              "27286   1935        3  BEDFORD STUYVESANT   \n",
              "27287   1936        3  BEDFORD STUYVESANT   \n",
              "27288   1937        3  BEDFORD STUYVESANT   \n",
              "27289   1938        3  BEDFORD STUYVESANT   \n",
              "\n",
              "                           BUILDING CLASS CATEGORY TAX CLASS AT PRESENT  \\\n",
              "0      07 RENTALS - WALKUP APARTMENTS                                2A   \n",
              "1      07 RENTALS - WALKUP APARTMENTS                                 2   \n",
              "2      07 RENTALS - WALKUP APARTMENTS                                 2   \n",
              "3      07 RENTALS - WALKUP APARTMENTS                                2B   \n",
              "4      07 RENTALS - WALKUP APARTMENTS                                2A   \n",
              "...                                            ...                  ...   \n",
              "27285  05 TAX CLASS 1 VACANT LAND                                    1B   \n",
              "27286  05 TAX CLASS 1 VACANT LAND                                    1B   \n",
              "27287  05 TAX CLASS 1 VACANT LAND                                    1B   \n",
              "27288  05 TAX CLASS 1 VACANT LAND                                    1B   \n",
              "27289  05 TAX CLASS 1 VACANT LAND                                    1B   \n",
              "\n",
              "       BLOCK  LOT EASE-MENT BUILDING CLASS AT PRESENT                 ADDRESS  \\\n",
              "0        392    6                                  C2            153 AVENUE B   \n",
              "1        399   26                                  C7   234 EAST 4TH   STREET   \n",
              "2        399   39                                  C7   197 EAST 3RD   STREET   \n",
              "3        402   21                                  C4     154 EAST 7TH STREET   \n",
              "4        404   55                                  C2  301 EAST 10TH   STREET   \n",
              "...      ...  ...       ...                       ...                     ...   \n",
              "27285   1763   51                                  V0         218 WALWORTH ST   \n",
              "27286   1772   53                                  V0      197 PULASKI STREET   \n",
              "27287   1772   59                                  V0      187 PULASKI STREET   \n",
              "27288   1786   51                                  V0        LAFAYETTE AVENUE   \n",
              "27289   1786   51                                  V0        LAFAYETTE AVENUE   \n",
              "\n",
              "       ... RESIDENTIAL UNITS  COMMERCIAL UNITS  TOTAL UNITS  LAND SQUARE FEET  \\\n",
              "0      ...                 5                 0            5            1633.0   \n",
              "1      ...                28                 3           31            4616.0   \n",
              "2      ...                16                 1           17            2212.0   \n",
              "3      ...                10                 0           10            2272.0   \n",
              "4      ...                 6                 0            6            2369.0   \n",
              "...    ...               ...               ...          ...               ...   \n",
              "27285  ...                 0                 0            0            2000.0   \n",
              "27286  ...                 0                 0            0            2025.0   \n",
              "27287  ...                 0                 0            0            2000.0   \n",
              "27288  ...                 0                 0            0            1400.0   \n",
              "27289  ...                 0                 0            0              14.0   \n",
              "\n",
              "       GROSS SQUARE FEET  YEAR BUILT  TAX CLASS AT TIME OF SALE  \\\n",
              "0                 6440.0      1900.0                        2.0   \n",
              "1                18690.0      1900.0                        2.0   \n",
              "2                 7803.0      1900.0                        2.0   \n",
              "3                 6794.0      1913.0                        2.0   \n",
              "4                 4615.0      1900.0                        2.0   \n",
              "...                  ...         ...                        ...   \n",
              "27285                0.0         0.0                        1.0   \n",
              "27286                0.0         0.0                        1.0   \n",
              "27287                0.0         0.0                        1.0   \n",
              "27288                0.0         0.0                        1.0   \n",
              "27289                NaN         NaN                        NaN   \n",
              "\n",
              "       BUILDING CLASS AT TIME OF SALE  SALE PRICE      SALE DATE  \n",
              "0                                  C2   6625000.0   7/19/17 0:00  \n",
              "1                                  C7         NaN  12/14/16 0:00  \n",
              "2                                  C7         NaN   12/9/16 0:00  \n",
              "3                                  C4   3936272.0   9/23/16 0:00  \n",
              "4                                  C2   8000000.0  11/17/16 0:00  \n",
              "...                               ...         ...            ...  \n",
              "27285                              V0   1350000.0    3/8/17 0:00  \n",
              "27286                              V0     50000.0   9/27/16 0:00  \n",
              "27287                              V0    580000.0   12/1/16 0:00  \n",
              "27288                              V0   1100000.0    5/5/17 0:00  \n",
              "27289                             NaN         NaN            NaN  \n",
              "\n",
              "[27290 rows x 22 columns]"
            ],
            "text/html": [
              "\n",
              "  <div id=\"df-009030c9-f942-4d70-a531-a6abc0f9b9cf\">\n",
              "    <div class=\"colab-df-container\">\n",
              "      <div>\n",
              "<style scoped>\n",
              "    .dataframe tbody tr th:only-of-type {\n",
              "        vertical-align: middle;\n",
              "    }\n",
              "\n",
              "    .dataframe tbody tr th {\n",
              "        vertical-align: top;\n",
              "    }\n",
              "\n",
              "    .dataframe thead th {\n",
              "        text-align: right;\n",
              "    }\n",
              "</style>\n",
              "<table border=\"1\" class=\"dataframe\">\n",
              "  <thead>\n",
              "    <tr style=\"text-align: right;\">\n",
              "      <th></th>\n",
              "      <th>Sales</th>\n",
              "      <th>BOROUGH</th>\n",
              "      <th>NEIGHBORHOOD</th>\n",
              "      <th>BUILDING CLASS CATEGORY</th>\n",
              "      <th>TAX CLASS AT PRESENT</th>\n",
              "      <th>BLOCK</th>\n",
              "      <th>LOT</th>\n",
              "      <th>EASE-MENT</th>\n",
              "      <th>BUILDING CLASS AT PRESENT</th>\n",
              "      <th>ADDRESS</th>\n",
              "      <th>...</th>\n",
              "      <th>RESIDENTIAL UNITS</th>\n",
              "      <th>COMMERCIAL UNITS</th>\n",
              "      <th>TOTAL UNITS</th>\n",
              "      <th>LAND SQUARE FEET</th>\n",
              "      <th>GROSS SQUARE FEET</th>\n",
              "      <th>YEAR BUILT</th>\n",
              "      <th>TAX CLASS AT TIME OF SALE</th>\n",
              "      <th>BUILDING CLASS AT TIME OF SALE</th>\n",
              "      <th>SALE PRICE</th>\n",
              "      <th>SALE DATE</th>\n",
              "    </tr>\n",
              "  </thead>\n",
              "  <tbody>\n",
              "    <tr>\n",
              "      <th>0</th>\n",
              "      <td>4</td>\n",
              "      <td>1</td>\n",
              "      <td>ALPHABET CITY</td>\n",
              "      <td>07 RENTALS - WALKUP APARTMENTS</td>\n",
              "      <td>2A</td>\n",
              "      <td>392</td>\n",
              "      <td>6</td>\n",
              "      <td></td>\n",
              "      <td>C2</td>\n",
              "      <td>153 AVENUE B</td>\n",
              "      <td>...</td>\n",
              "      <td>5</td>\n",
              "      <td>0</td>\n",
              "      <td>5</td>\n",
              "      <td>1633.0</td>\n",
              "      <td>6440.0</td>\n",
              "      <td>1900.0</td>\n",
              "      <td>2.0</td>\n",
              "      <td>C2</td>\n",
              "      <td>6625000.0</td>\n",
              "      <td>7/19/17 0:00</td>\n",
              "    </tr>\n",
              "    <tr>\n",
              "      <th>1</th>\n",
              "      <td>5</td>\n",
              "      <td>1</td>\n",
              "      <td>ALPHABET CITY</td>\n",
              "      <td>07 RENTALS - WALKUP APARTMENTS</td>\n",
              "      <td>2</td>\n",
              "      <td>399</td>\n",
              "      <td>26</td>\n",
              "      <td></td>\n",
              "      <td>C7</td>\n",
              "      <td>234 EAST 4TH   STREET</td>\n",
              "      <td>...</td>\n",
              "      <td>28</td>\n",
              "      <td>3</td>\n",
              "      <td>31</td>\n",
              "      <td>4616.0</td>\n",
              "      <td>18690.0</td>\n",
              "      <td>1900.0</td>\n",
              "      <td>2.0</td>\n",
              "      <td>C7</td>\n",
              "      <td>NaN</td>\n",
              "      <td>12/14/16 0:00</td>\n",
              "    </tr>\n",
              "    <tr>\n",
              "      <th>2</th>\n",
              "      <td>6</td>\n",
              "      <td>1</td>\n",
              "      <td>ALPHABET CITY</td>\n",
              "      <td>07 RENTALS - WALKUP APARTMENTS</td>\n",
              "      <td>2</td>\n",
              "      <td>399</td>\n",
              "      <td>39</td>\n",
              "      <td></td>\n",
              "      <td>C7</td>\n",
              "      <td>197 EAST 3RD   STREET</td>\n",
              "      <td>...</td>\n",
              "      <td>16</td>\n",
              "      <td>1</td>\n",
              "      <td>17</td>\n",
              "      <td>2212.0</td>\n",
              "      <td>7803.0</td>\n",
              "      <td>1900.0</td>\n",
              "      <td>2.0</td>\n",
              "      <td>C7</td>\n",
              "      <td>NaN</td>\n",
              "      <td>12/9/16 0:00</td>\n",
              "    </tr>\n",
              "    <tr>\n",
              "      <th>3</th>\n",
              "      <td>7</td>\n",
              "      <td>1</td>\n",
              "      <td>ALPHABET CITY</td>\n",
              "      <td>07 RENTALS - WALKUP APARTMENTS</td>\n",
              "      <td>2B</td>\n",
              "      <td>402</td>\n",
              "      <td>21</td>\n",
              "      <td></td>\n",
              "      <td>C4</td>\n",
              "      <td>154 EAST 7TH STREET</td>\n",
              "      <td>...</td>\n",
              "      <td>10</td>\n",
              "      <td>0</td>\n",
              "      <td>10</td>\n",
              "      <td>2272.0</td>\n",
              "      <td>6794.0</td>\n",
              "      <td>1913.0</td>\n",
              "      <td>2.0</td>\n",
              "      <td>C4</td>\n",
              "      <td>3936272.0</td>\n",
              "      <td>9/23/16 0:00</td>\n",
              "    </tr>\n",
              "    <tr>\n",
              "      <th>4</th>\n",
              "      <td>8</td>\n",
              "      <td>1</td>\n",
              "      <td>ALPHABET CITY</td>\n",
              "      <td>07 RENTALS - WALKUP APARTMENTS</td>\n",
              "      <td>2A</td>\n",
              "      <td>404</td>\n",
              "      <td>55</td>\n",
              "      <td></td>\n",
              "      <td>C2</td>\n",
              "      <td>301 EAST 10TH   STREET</td>\n",
              "      <td>...</td>\n",
              "      <td>6</td>\n",
              "      <td>0</td>\n",
              "      <td>6</td>\n",
              "      <td>2369.0</td>\n",
              "      <td>4615.0</td>\n",
              "      <td>1900.0</td>\n",
              "      <td>2.0</td>\n",
              "      <td>C2</td>\n",
              "      <td>8000000.0</td>\n",
              "      <td>11/17/16 0:00</td>\n",
              "    </tr>\n",
              "    <tr>\n",
              "      <th>...</th>\n",
              "      <td>...</td>\n",
              "      <td>...</td>\n",
              "      <td>...</td>\n",
              "      <td>...</td>\n",
              "      <td>...</td>\n",
              "      <td>...</td>\n",
              "      <td>...</td>\n",
              "      <td>...</td>\n",
              "      <td>...</td>\n",
              "      <td>...</td>\n",
              "      <td>...</td>\n",
              "      <td>...</td>\n",
              "      <td>...</td>\n",
              "      <td>...</td>\n",
              "      <td>...</td>\n",
              "      <td>...</td>\n",
              "      <td>...</td>\n",
              "      <td>...</td>\n",
              "      <td>...</td>\n",
              "      <td>...</td>\n",
              "      <td>...</td>\n",
              "    </tr>\n",
              "    <tr>\n",
              "      <th>27285</th>\n",
              "      <td>1934</td>\n",
              "      <td>3</td>\n",
              "      <td>BEDFORD STUYVESANT</td>\n",
              "      <td>05 TAX CLASS 1 VACANT LAND</td>\n",
              "      <td>1B</td>\n",
              "      <td>1763</td>\n",
              "      <td>51</td>\n",
              "      <td></td>\n",
              "      <td>V0</td>\n",
              "      <td>218 WALWORTH ST</td>\n",
              "      <td>...</td>\n",
              "      <td>0</td>\n",
              "      <td>0</td>\n",
              "      <td>0</td>\n",
              "      <td>2000.0</td>\n",
              "      <td>0.0</td>\n",
              "      <td>0.0</td>\n",
              "      <td>1.0</td>\n",
              "      <td>V0</td>\n",
              "      <td>1350000.0</td>\n",
              "      <td>3/8/17 0:00</td>\n",
              "    </tr>\n",
              "    <tr>\n",
              "      <th>27286</th>\n",
              "      <td>1935</td>\n",
              "      <td>3</td>\n",
              "      <td>BEDFORD STUYVESANT</td>\n",
              "      <td>05 TAX CLASS 1 VACANT LAND</td>\n",
              "      <td>1B</td>\n",
              "      <td>1772</td>\n",
              "      <td>53</td>\n",
              "      <td></td>\n",
              "      <td>V0</td>\n",
              "      <td>197 PULASKI STREET</td>\n",
              "      <td>...</td>\n",
              "      <td>0</td>\n",
              "      <td>0</td>\n",
              "      <td>0</td>\n",
              "      <td>2025.0</td>\n",
              "      <td>0.0</td>\n",
              "      <td>0.0</td>\n",
              "      <td>1.0</td>\n",
              "      <td>V0</td>\n",
              "      <td>50000.0</td>\n",
              "      <td>9/27/16 0:00</td>\n",
              "    </tr>\n",
              "    <tr>\n",
              "      <th>27287</th>\n",
              "      <td>1936</td>\n",
              "      <td>3</td>\n",
              "      <td>BEDFORD STUYVESANT</td>\n",
              "      <td>05 TAX CLASS 1 VACANT LAND</td>\n",
              "      <td>1B</td>\n",
              "      <td>1772</td>\n",
              "      <td>59</td>\n",
              "      <td></td>\n",
              "      <td>V0</td>\n",
              "      <td>187 PULASKI STREET</td>\n",
              "      <td>...</td>\n",
              "      <td>0</td>\n",
              "      <td>0</td>\n",
              "      <td>0</td>\n",
              "      <td>2000.0</td>\n",
              "      <td>0.0</td>\n",
              "      <td>0.0</td>\n",
              "      <td>1.0</td>\n",
              "      <td>V0</td>\n",
              "      <td>580000.0</td>\n",
              "      <td>12/1/16 0:00</td>\n",
              "    </tr>\n",
              "    <tr>\n",
              "      <th>27288</th>\n",
              "      <td>1937</td>\n",
              "      <td>3</td>\n",
              "      <td>BEDFORD STUYVESANT</td>\n",
              "      <td>05 TAX CLASS 1 VACANT LAND</td>\n",
              "      <td>1B</td>\n",
              "      <td>1786</td>\n",
              "      <td>51</td>\n",
              "      <td></td>\n",
              "      <td>V0</td>\n",
              "      <td>LAFAYETTE AVENUE</td>\n",
              "      <td>...</td>\n",
              "      <td>0</td>\n",
              "      <td>0</td>\n",
              "      <td>0</td>\n",
              "      <td>1400.0</td>\n",
              "      <td>0.0</td>\n",
              "      <td>0.0</td>\n",
              "      <td>1.0</td>\n",
              "      <td>V0</td>\n",
              "      <td>1100000.0</td>\n",
              "      <td>5/5/17 0:00</td>\n",
              "    </tr>\n",
              "    <tr>\n",
              "      <th>27289</th>\n",
              "      <td>1938</td>\n",
              "      <td>3</td>\n",
              "      <td>BEDFORD STUYVESANT</td>\n",
              "      <td>05 TAX CLASS 1 VACANT LAND</td>\n",
              "      <td>1B</td>\n",
              "      <td>1786</td>\n",
              "      <td>51</td>\n",
              "      <td></td>\n",
              "      <td>V0</td>\n",
              "      <td>LAFAYETTE AVENUE</td>\n",
              "      <td>...</td>\n",
              "      <td>0</td>\n",
              "      <td>0</td>\n",
              "      <td>0</td>\n",
              "      <td>14.0</td>\n",
              "      <td>NaN</td>\n",
              "      <td>NaN</td>\n",
              "      <td>NaN</td>\n",
              "      <td>NaN</td>\n",
              "      <td>NaN</td>\n",
              "      <td>NaN</td>\n",
              "    </tr>\n",
              "  </tbody>\n",
              "</table>\n",
              "<p>27290 rows × 22 columns</p>\n",
              "</div>\n",
              "      <button class=\"colab-df-convert\" onclick=\"convertToInteractive('df-009030c9-f942-4d70-a531-a6abc0f9b9cf')\"\n",
              "              title=\"Convert this dataframe to an interactive table.\"\n",
              "              style=\"display:none;\">\n",
              "        \n",
              "  <svg xmlns=\"http://www.w3.org/2000/svg\" height=\"24px\"viewBox=\"0 0 24 24\"\n",
              "       width=\"24px\">\n",
              "    <path d=\"M0 0h24v24H0V0z\" fill=\"none\"/>\n",
              "    <path d=\"M18.56 5.44l.94 2.06.94-2.06 2.06-.94-2.06-.94-.94-2.06-.94 2.06-2.06.94zm-11 1L8.5 8.5l.94-2.06 2.06-.94-2.06-.94L8.5 2.5l-.94 2.06-2.06.94zm10 10l.94 2.06.94-2.06 2.06-.94-2.06-.94-.94-2.06-.94 2.06-2.06.94z\"/><path d=\"M17.41 7.96l-1.37-1.37c-.4-.4-.92-.59-1.43-.59-.52 0-1.04.2-1.43.59L10.3 9.45l-7.72 7.72c-.78.78-.78 2.05 0 2.83L4 21.41c.39.39.9.59 1.41.59.51 0 1.02-.2 1.41-.59l7.78-7.78 2.81-2.81c.8-.78.8-2.07 0-2.86zM5.41 20L4 18.59l7.72-7.72 1.47 1.35L5.41 20z\"/>\n",
              "  </svg>\n",
              "      </button>\n",
              "      \n",
              "  <style>\n",
              "    .colab-df-container {\n",
              "      display:flex;\n",
              "      flex-wrap:wrap;\n",
              "      gap: 12px;\n",
              "    }\n",
              "\n",
              "    .colab-df-convert {\n",
              "      background-color: #E8F0FE;\n",
              "      border: none;\n",
              "      border-radius: 50%;\n",
              "      cursor: pointer;\n",
              "      display: none;\n",
              "      fill: #1967D2;\n",
              "      height: 32px;\n",
              "      padding: 0 0 0 0;\n",
              "      width: 32px;\n",
              "    }\n",
              "\n",
              "    .colab-df-convert:hover {\n",
              "      background-color: #E2EBFA;\n",
              "      box-shadow: 0px 1px 2px rgba(60, 64, 67, 0.3), 0px 1px 3px 1px rgba(60, 64, 67, 0.15);\n",
              "      fill: #174EA6;\n",
              "    }\n",
              "\n",
              "    [theme=dark] .colab-df-convert {\n",
              "      background-color: #3B4455;\n",
              "      fill: #D2E3FC;\n",
              "    }\n",
              "\n",
              "    [theme=dark] .colab-df-convert:hover {\n",
              "      background-color: #434B5C;\n",
              "      box-shadow: 0px 1px 3px 1px rgba(0, 0, 0, 0.15);\n",
              "      filter: drop-shadow(0px 1px 2px rgba(0, 0, 0, 0.3));\n",
              "      fill: #FFFFFF;\n",
              "    }\n",
              "  </style>\n",
              "\n",
              "      <script>\n",
              "        const buttonEl =\n",
              "          document.querySelector('#df-009030c9-f942-4d70-a531-a6abc0f9b9cf button.colab-df-convert');\n",
              "        buttonEl.style.display =\n",
              "          google.colab.kernel.accessAllowed ? 'block' : 'none';\n",
              "\n",
              "        async function convertToInteractive(key) {\n",
              "          const element = document.querySelector('#df-009030c9-f942-4d70-a531-a6abc0f9b9cf');\n",
              "          const dataTable =\n",
              "            await google.colab.kernel.invokeFunction('convertToInteractive',\n",
              "                                                     [key], {});\n",
              "          if (!dataTable) return;\n",
              "\n",
              "          const docLinkHtml = 'Like what you see? Visit the ' +\n",
              "            '<a target=\"_blank\" href=https://colab.research.google.com/notebooks/data_table.ipynb>data table notebook</a>'\n",
              "            + ' to learn more about interactive tables.';\n",
              "          element.innerHTML = '';\n",
              "          dataTable['output_type'] = 'display_data';\n",
              "          await google.colab.output.renderOutput(dataTable, element);\n",
              "          const docLink = document.createElement('div');\n",
              "          docLink.innerHTML = docLinkHtml;\n",
              "          element.appendChild(docLink);\n",
              "        }\n",
              "      </script>\n",
              "    </div>\n",
              "  </div>\n",
              "  "
            ]
          },
          "metadata": {},
          "execution_count": 6
        }
      ],
      "source": [
        "import pandas as pd\n",
        "df=pd.read_csv(\"/content/NewYork.csv\")\n",
        "df"
      ]
    },
    {
      "cell_type": "markdown",
      "source": [
        "**DATA EXPLORATION**"
      ],
      "metadata": {
        "id": "qpUJ6uW-q_Vk"
      }
    },
    {
      "cell_type": "code",
      "source": [
        "df.info()"
      ],
      "metadata": {
        "colab": {
          "base_uri": "https://localhost:8080/"
        },
        "id": "AA8oaEiDQydK",
        "outputId": "17d609ce-2f2a-46cb-ea97-aeb61c594afd"
      },
      "execution_count": 7,
      "outputs": [
        {
          "output_type": "stream",
          "name": "stdout",
          "text": [
            "<class 'pandas.core.frame.DataFrame'>\n",
            "RangeIndex: 27290 entries, 0 to 27289\n",
            "Data columns (total 22 columns):\n",
            " #   Column                          Non-Null Count  Dtype  \n",
            "---  ------                          --------------  -----  \n",
            " 0   Sales                           27290 non-null  int64  \n",
            " 1   BOROUGH                         27290 non-null  int64  \n",
            " 2   NEIGHBORHOOD                    27290 non-null  object \n",
            " 3   BUILDING CLASS CATEGORY         27290 non-null  object \n",
            " 4   TAX CLASS AT PRESENT            27290 non-null  object \n",
            " 5   BLOCK                           27290 non-null  int64  \n",
            " 6   LOT                             27290 non-null  int64  \n",
            " 7   EASE-MENT                       27290 non-null  object \n",
            " 8   BUILDING CLASS AT PRESENT       27290 non-null  object \n",
            " 9   ADDRESS                         27290 non-null  object \n",
            " 10  APARTMENT NUMBER                27290 non-null  object \n",
            " 11  ZIP CODE                        27290 non-null  int64  \n",
            " 12  RESIDENTIAL UNITS               27290 non-null  int64  \n",
            " 13  COMMERCIAL UNITS                27290 non-null  int64  \n",
            " 14  TOTAL UNITS                     27290 non-null  int64  \n",
            " 15  LAND SQUARE FEET                10843 non-null  float64\n",
            " 16  GROSS SQUARE FEET               10729 non-null  float64\n",
            " 17  YEAR BUILT                      27289 non-null  float64\n",
            " 18  TAX CLASS AT TIME OF SALE       27289 non-null  float64\n",
            " 19  BUILDING CLASS AT TIME OF SALE  27289 non-null  object \n",
            " 20  SALE PRICE                      23422 non-null  float64\n",
            " 21  SALE DATE                       27289 non-null  object \n",
            "dtypes: float64(5), int64(8), object(9)\n",
            "memory usage: 4.6+ MB\n"
          ]
        }
      ]
    },
    {
      "cell_type": "code",
      "source": [
        "df.describe()"
      ],
      "metadata": {
        "colab": {
          "base_uri": "https://localhost:8080/",
          "height": 399
        },
        "id": "dGW8qcWFSfXB",
        "outputId": "f567d9d5-247b-4b77-dd01-94a13af570de"
      },
      "execution_count": 8,
      "outputs": [
        {
          "output_type": "execute_result",
          "data": {
            "text/plain": [
              "              Sales       BOROUGH         BLOCK           LOT      ZIP CODE  \\\n",
              "count  27290.000000  27290.000000  27290.000000  27290.000000  27290.000000   \n",
              "mean    7122.266251      1.400110   2128.357787    588.696152  10119.414877   \n",
              "std     5349.845979      0.617937   1712.332504    854.587466   1094.812327   \n",
              "min        4.000000      1.000000      7.000000      1.000000      0.000000   \n",
              "25%     2447.250000      1.000000    943.000000     26.000000  10017.000000   \n",
              "50%     5858.500000      1.000000   1450.000000     67.000000  10028.000000   \n",
              "75%    11486.750000      2.000000   3097.750000   1114.000000  10462.000000   \n",
              "max    18309.000000      3.000000   6485.000000   9106.000000  11238.000000   \n",
              "\n",
              "       RESIDENTIAL UNITS  COMMERCIAL UNITS   TOTAL UNITS  LAND SQUARE FEET  \\\n",
              "count       27290.000000      27290.000000  27290.000000      10843.000000   \n",
              "mean            2.562550          0.248259      2.841957       3836.452273   \n",
              "std            21.843404          5.372159     22.667612      16394.502451   \n",
              "min             0.000000          0.000000      0.000000          0.000000   \n",
              "25%             0.000000          0.000000      0.000000       1500.000000   \n",
              "50%             1.000000          0.000000      1.000000       2180.000000   \n",
              "75%             1.000000          0.000000      1.000000       2889.000000   \n",
              "max          1641.000000        422.000000   1653.000000     679000.000000   \n",
              "\n",
              "       GROSS SQUARE FEET    YEAR BUILT  TAX CLASS AT TIME OF SALE  \\\n",
              "count       1.072900e+04  27289.000000               27289.000000   \n",
              "mean        9.308331e+03   1727.027447                   1.915534   \n",
              "std         5.434674e+04    619.289054                   0.712227   \n",
              "min         0.000000e+00      0.000000                   1.000000   \n",
              "25%         8.250000e+02   1910.000000                   2.000000   \n",
              "50%         2.140000e+03   1931.000000                   2.000000   \n",
              "75%         3.430000e+03   1965.000000                   2.000000   \n",
              "max         2.155492e+06   2017.000000                   4.000000   \n",
              "\n",
              "         SALE PRICE  \n",
              "count  2.342200e+04  \n",
              "mean   2.286449e+06  \n",
              "std    1.902985e+07  \n",
              "min    0.000000e+00  \n",
              "25%    3.400000e+05  \n",
              "50%    7.125000e+05  \n",
              "75%    1.620000e+06  \n",
              "max    2.210000e+09  "
            ],
            "text/html": [
              "\n",
              "  <div id=\"df-c7a0116d-92e4-47b5-b744-d425f1781e26\">\n",
              "    <div class=\"colab-df-container\">\n",
              "      <div>\n",
              "<style scoped>\n",
              "    .dataframe tbody tr th:only-of-type {\n",
              "        vertical-align: middle;\n",
              "    }\n",
              "\n",
              "    .dataframe tbody tr th {\n",
              "        vertical-align: top;\n",
              "    }\n",
              "\n",
              "    .dataframe thead th {\n",
              "        text-align: right;\n",
              "    }\n",
              "</style>\n",
              "<table border=\"1\" class=\"dataframe\">\n",
              "  <thead>\n",
              "    <tr style=\"text-align: right;\">\n",
              "      <th></th>\n",
              "      <th>Sales</th>\n",
              "      <th>BOROUGH</th>\n",
              "      <th>BLOCK</th>\n",
              "      <th>LOT</th>\n",
              "      <th>ZIP CODE</th>\n",
              "      <th>RESIDENTIAL UNITS</th>\n",
              "      <th>COMMERCIAL UNITS</th>\n",
              "      <th>TOTAL UNITS</th>\n",
              "      <th>LAND SQUARE FEET</th>\n",
              "      <th>GROSS SQUARE FEET</th>\n",
              "      <th>YEAR BUILT</th>\n",
              "      <th>TAX CLASS AT TIME OF SALE</th>\n",
              "      <th>SALE PRICE</th>\n",
              "    </tr>\n",
              "  </thead>\n",
              "  <tbody>\n",
              "    <tr>\n",
              "      <th>count</th>\n",
              "      <td>27290.000000</td>\n",
              "      <td>27290.000000</td>\n",
              "      <td>27290.000000</td>\n",
              "      <td>27290.000000</td>\n",
              "      <td>27290.000000</td>\n",
              "      <td>27290.000000</td>\n",
              "      <td>27290.000000</td>\n",
              "      <td>27290.000000</td>\n",
              "      <td>10843.000000</td>\n",
              "      <td>1.072900e+04</td>\n",
              "      <td>27289.000000</td>\n",
              "      <td>27289.000000</td>\n",
              "      <td>2.342200e+04</td>\n",
              "    </tr>\n",
              "    <tr>\n",
              "      <th>mean</th>\n",
              "      <td>7122.266251</td>\n",
              "      <td>1.400110</td>\n",
              "      <td>2128.357787</td>\n",
              "      <td>588.696152</td>\n",
              "      <td>10119.414877</td>\n",
              "      <td>2.562550</td>\n",
              "      <td>0.248259</td>\n",
              "      <td>2.841957</td>\n",
              "      <td>3836.452273</td>\n",
              "      <td>9.308331e+03</td>\n",
              "      <td>1727.027447</td>\n",
              "      <td>1.915534</td>\n",
              "      <td>2.286449e+06</td>\n",
              "    </tr>\n",
              "    <tr>\n",
              "      <th>std</th>\n",
              "      <td>5349.845979</td>\n",
              "      <td>0.617937</td>\n",
              "      <td>1712.332504</td>\n",
              "      <td>854.587466</td>\n",
              "      <td>1094.812327</td>\n",
              "      <td>21.843404</td>\n",
              "      <td>5.372159</td>\n",
              "      <td>22.667612</td>\n",
              "      <td>16394.502451</td>\n",
              "      <td>5.434674e+04</td>\n",
              "      <td>619.289054</td>\n",
              "      <td>0.712227</td>\n",
              "      <td>1.902985e+07</td>\n",
              "    </tr>\n",
              "    <tr>\n",
              "      <th>min</th>\n",
              "      <td>4.000000</td>\n",
              "      <td>1.000000</td>\n",
              "      <td>7.000000</td>\n",
              "      <td>1.000000</td>\n",
              "      <td>0.000000</td>\n",
              "      <td>0.000000</td>\n",
              "      <td>0.000000</td>\n",
              "      <td>0.000000</td>\n",
              "      <td>0.000000</td>\n",
              "      <td>0.000000e+00</td>\n",
              "      <td>0.000000</td>\n",
              "      <td>1.000000</td>\n",
              "      <td>0.000000e+00</td>\n",
              "    </tr>\n",
              "    <tr>\n",
              "      <th>25%</th>\n",
              "      <td>2447.250000</td>\n",
              "      <td>1.000000</td>\n",
              "      <td>943.000000</td>\n",
              "      <td>26.000000</td>\n",
              "      <td>10017.000000</td>\n",
              "      <td>0.000000</td>\n",
              "      <td>0.000000</td>\n",
              "      <td>0.000000</td>\n",
              "      <td>1500.000000</td>\n",
              "      <td>8.250000e+02</td>\n",
              "      <td>1910.000000</td>\n",
              "      <td>2.000000</td>\n",
              "      <td>3.400000e+05</td>\n",
              "    </tr>\n",
              "    <tr>\n",
              "      <th>50%</th>\n",
              "      <td>5858.500000</td>\n",
              "      <td>1.000000</td>\n",
              "      <td>1450.000000</td>\n",
              "      <td>67.000000</td>\n",
              "      <td>10028.000000</td>\n",
              "      <td>1.000000</td>\n",
              "      <td>0.000000</td>\n",
              "      <td>1.000000</td>\n",
              "      <td>2180.000000</td>\n",
              "      <td>2.140000e+03</td>\n",
              "      <td>1931.000000</td>\n",
              "      <td>2.000000</td>\n",
              "      <td>7.125000e+05</td>\n",
              "    </tr>\n",
              "    <tr>\n",
              "      <th>75%</th>\n",
              "      <td>11486.750000</td>\n",
              "      <td>2.000000</td>\n",
              "      <td>3097.750000</td>\n",
              "      <td>1114.000000</td>\n",
              "      <td>10462.000000</td>\n",
              "      <td>1.000000</td>\n",
              "      <td>0.000000</td>\n",
              "      <td>1.000000</td>\n",
              "      <td>2889.000000</td>\n",
              "      <td>3.430000e+03</td>\n",
              "      <td>1965.000000</td>\n",
              "      <td>2.000000</td>\n",
              "      <td>1.620000e+06</td>\n",
              "    </tr>\n",
              "    <tr>\n",
              "      <th>max</th>\n",
              "      <td>18309.000000</td>\n",
              "      <td>3.000000</td>\n",
              "      <td>6485.000000</td>\n",
              "      <td>9106.000000</td>\n",
              "      <td>11238.000000</td>\n",
              "      <td>1641.000000</td>\n",
              "      <td>422.000000</td>\n",
              "      <td>1653.000000</td>\n",
              "      <td>679000.000000</td>\n",
              "      <td>2.155492e+06</td>\n",
              "      <td>2017.000000</td>\n",
              "      <td>4.000000</td>\n",
              "      <td>2.210000e+09</td>\n",
              "    </tr>\n",
              "  </tbody>\n",
              "</table>\n",
              "</div>\n",
              "      <button class=\"colab-df-convert\" onclick=\"convertToInteractive('df-c7a0116d-92e4-47b5-b744-d425f1781e26')\"\n",
              "              title=\"Convert this dataframe to an interactive table.\"\n",
              "              style=\"display:none;\">\n",
              "        \n",
              "  <svg xmlns=\"http://www.w3.org/2000/svg\" height=\"24px\"viewBox=\"0 0 24 24\"\n",
              "       width=\"24px\">\n",
              "    <path d=\"M0 0h24v24H0V0z\" fill=\"none\"/>\n",
              "    <path d=\"M18.56 5.44l.94 2.06.94-2.06 2.06-.94-2.06-.94-.94-2.06-.94 2.06-2.06.94zm-11 1L8.5 8.5l.94-2.06 2.06-.94-2.06-.94L8.5 2.5l-.94 2.06-2.06.94zm10 10l.94 2.06.94-2.06 2.06-.94-2.06-.94-.94-2.06-.94 2.06-2.06.94z\"/><path d=\"M17.41 7.96l-1.37-1.37c-.4-.4-.92-.59-1.43-.59-.52 0-1.04.2-1.43.59L10.3 9.45l-7.72 7.72c-.78.78-.78 2.05 0 2.83L4 21.41c.39.39.9.59 1.41.59.51 0 1.02-.2 1.41-.59l7.78-7.78 2.81-2.81c.8-.78.8-2.07 0-2.86zM5.41 20L4 18.59l7.72-7.72 1.47 1.35L5.41 20z\"/>\n",
              "  </svg>\n",
              "      </button>\n",
              "      \n",
              "  <style>\n",
              "    .colab-df-container {\n",
              "      display:flex;\n",
              "      flex-wrap:wrap;\n",
              "      gap: 12px;\n",
              "    }\n",
              "\n",
              "    .colab-df-convert {\n",
              "      background-color: #E8F0FE;\n",
              "      border: none;\n",
              "      border-radius: 50%;\n",
              "      cursor: pointer;\n",
              "      display: none;\n",
              "      fill: #1967D2;\n",
              "      height: 32px;\n",
              "      padding: 0 0 0 0;\n",
              "      width: 32px;\n",
              "    }\n",
              "\n",
              "    .colab-df-convert:hover {\n",
              "      background-color: #E2EBFA;\n",
              "      box-shadow: 0px 1px 2px rgba(60, 64, 67, 0.3), 0px 1px 3px 1px rgba(60, 64, 67, 0.15);\n",
              "      fill: #174EA6;\n",
              "    }\n",
              "\n",
              "    [theme=dark] .colab-df-convert {\n",
              "      background-color: #3B4455;\n",
              "      fill: #D2E3FC;\n",
              "    }\n",
              "\n",
              "    [theme=dark] .colab-df-convert:hover {\n",
              "      background-color: #434B5C;\n",
              "      box-shadow: 0px 1px 3px 1px rgba(0, 0, 0, 0.15);\n",
              "      filter: drop-shadow(0px 1px 2px rgba(0, 0, 0, 0.3));\n",
              "      fill: #FFFFFF;\n",
              "    }\n",
              "  </style>\n",
              "\n",
              "      <script>\n",
              "        const buttonEl =\n",
              "          document.querySelector('#df-c7a0116d-92e4-47b5-b744-d425f1781e26 button.colab-df-convert');\n",
              "        buttonEl.style.display =\n",
              "          google.colab.kernel.accessAllowed ? 'block' : 'none';\n",
              "\n",
              "        async function convertToInteractive(key) {\n",
              "          const element = document.querySelector('#df-c7a0116d-92e4-47b5-b744-d425f1781e26');\n",
              "          const dataTable =\n",
              "            await google.colab.kernel.invokeFunction('convertToInteractive',\n",
              "                                                     [key], {});\n",
              "          if (!dataTable) return;\n",
              "\n",
              "          const docLinkHtml = 'Like what you see? Visit the ' +\n",
              "            '<a target=\"_blank\" href=https://colab.research.google.com/notebooks/data_table.ipynb>data table notebook</a>'\n",
              "            + ' to learn more about interactive tables.';\n",
              "          element.innerHTML = '';\n",
              "          dataTable['output_type'] = 'display_data';\n",
              "          await google.colab.output.renderOutput(dataTable, element);\n",
              "          const docLink = document.createElement('div');\n",
              "          docLink.innerHTML = docLinkHtml;\n",
              "          element.appendChild(docLink);\n",
              "        }\n",
              "      </script>\n",
              "    </div>\n",
              "  </div>\n",
              "  "
            ]
          },
          "metadata": {},
          "execution_count": 8
        }
      ]
    },
    {
      "cell_type": "code",
      "source": [
        "df.shape"
      ],
      "metadata": {
        "id": "roUD4qsaZtKS",
        "colab": {
          "base_uri": "https://localhost:8080/"
        },
        "outputId": "1dafb595-839f-4e58-a6c8-e9fd54901a14"
      },
      "execution_count": 9,
      "outputs": [
        {
          "output_type": "execute_result",
          "data": {
            "text/plain": [
              "(27290, 22)"
            ]
          },
          "metadata": {},
          "execution_count": 9
        }
      ]
    },
    {
      "cell_type": "markdown",
      "source": [
        "**RENAMING THE COLUMNS AND PREPROCESSING**"
      ],
      "metadata": {
        "id": "DFwFPg_zrfkB"
      }
    },
    {
      "cell_type": "code",
      "source": [
        "df.rename(columns = {'GROSS SQUARE FEET':'GROSS_SQUARE_FEET'}, inplace = True)"
      ],
      "metadata": {
        "id": "WBmy0tyON934"
      },
      "execution_count": 10,
      "outputs": []
    },
    {
      "cell_type": "code",
      "source": [
        "df.rename(columns = {'SALE PRICE':'SALE_PRICE'}, inplace = True)"
      ],
      "metadata": {
        "id": "1vzQM0uNOitD"
      },
      "execution_count": 41,
      "outputs": []
    },
    {
      "cell_type": "code",
      "source": [
        "df.rename(columns = {'ZIP CODE':'ZIP_CODE'}, inplace = True)"
      ],
      "metadata": {
        "id": "308iMhCbVuQE"
      },
      "execution_count": 12,
      "outputs": []
    },
    {
      "cell_type": "code",
      "source": [
        "df.rename(columns = {'RESIDENTIAL UNITS':'RESIDENTIAL_UNITS'}, inplace = True)"
      ],
      "metadata": {
        "id": "TusG5r6hb58B"
      },
      "execution_count": 24,
      "outputs": []
    },
    {
      "cell_type": "code",
      "source": [
        "df.rename(columns = {'YEAR BUILT':'YEAR_BUILT'}, inplace = True)"
      ],
      "metadata": {
        "id": "qiCsiCSUan2C"
      },
      "execution_count": 13,
      "outputs": []
    },
    {
      "cell_type": "code",
      "source": [
        "df.rename(columns = {'TAX CLASS AT TIME OF SALE':'TAX_CLASS_AT_TIME_OF_SALE'}, inplace = True)"
      ],
      "metadata": {
        "id": "Mp4sCfivbqA_"
      },
      "execution_count": 14,
      "outputs": []
    },
    {
      "cell_type": "code",
      "source": [
        "df.rename(columns = {'BUILDING CLASS AT PRESENT':'BUILDING_CLASS_AT_PRESENT'}, inplace = True)"
      ],
      "metadata": {
        "id": "nTaOzW7XWvhD"
      },
      "execution_count": 15,
      "outputs": []
    },
    {
      "cell_type": "code",
      "source": [
        "df.dropna(subset=['SALE_PRICE'], inplace=True)"
      ],
      "metadata": {
        "id": "pRI0p7neYp0E"
      },
      "execution_count": 16,
      "outputs": []
    },
    {
      "cell_type": "code",
      "source": [
        "df['SALE_PRICE'].isnull().sum()"
      ],
      "metadata": {
        "colab": {
          "base_uri": "https://localhost:8080/"
        },
        "id": "EtUzJQSKYp3M",
        "outputId": "8badb154-4a8c-4812-bed2-2b6f7cedbc56"
      },
      "execution_count": 17,
      "outputs": [
        {
          "output_type": "execute_result",
          "data": {
            "text/plain": [
              "0"
            ]
          },
          "metadata": {},
          "execution_count": 17
        }
      ]
    },
    {
      "cell_type": "code",
      "source": [
        "df.dropna(subset=['BUILDING_CLASS_AT_PRESENT'], inplace=True)"
      ],
      "metadata": {
        "id": "2U6yma8gYp6l"
      },
      "execution_count": 18,
      "outputs": []
    },
    {
      "cell_type": "code",
      "source": [
        "df['BUILDING_CLASS_AT_PRESENT'].isnull().sum()"
      ],
      "metadata": {
        "colab": {
          "base_uri": "https://localhost:8080/"
        },
        "id": "SIBNw9R0ZH6s",
        "outputId": "1123d6e9-4a7b-42fe-ef60-8d336d790ac8"
      },
      "execution_count": 19,
      "outputs": [
        {
          "output_type": "execute_result",
          "data": {
            "text/plain": [
              "0"
            ]
          },
          "metadata": {},
          "execution_count": 19
        }
      ]
    },
    {
      "cell_type": "code",
      "source": [
        "df['BOROUGH'].isnull().sum()"
      ],
      "metadata": {
        "colab": {
          "base_uri": "https://localhost:8080/"
        },
        "id": "YiZY4fHmay__",
        "outputId": "acb7e43b-7fc7-427d-9e0d-d734496d95b1"
      },
      "execution_count": 20,
      "outputs": [
        {
          "output_type": "execute_result",
          "data": {
            "text/plain": [
              "0"
            ]
          },
          "metadata": {},
          "execution_count": 20
        }
      ]
    },
    {
      "cell_type": "code",
      "source": [
        "df['BOROUGH'] = df['BOROUGH'].map(str)"
      ],
      "metadata": {
        "id": "G88WZpiqade-"
      },
      "execution_count": 21,
      "outputs": []
    },
    {
      "cell_type": "code",
      "source": [
        "df"
      ],
      "metadata": {
        "colab": {
          "base_uri": "https://localhost:8080/",
          "height": 973
        },
        "id": "6FLi3AdfOHzM",
        "outputId": "202109e3-10fa-4496-a632-e4c4f2404b60"
      },
      "execution_count": 22,
      "outputs": [
        {
          "output_type": "execute_result",
          "data": {
            "text/plain": [
              "       Sales BOROUGH        NEIGHBORHOOD  \\\n",
              "0          4       1       ALPHABET CITY   \n",
              "3          7       1       ALPHABET CITY   \n",
              "4          8       1       ALPHABET CITY   \n",
              "6         10       1       ALPHABET CITY   \n",
              "9         13       1       ALPHABET CITY   \n",
              "...      ...     ...                 ...   \n",
              "27284   1933       3  BEDFORD STUYVESANT   \n",
              "27285   1934       3  BEDFORD STUYVESANT   \n",
              "27286   1935       3  BEDFORD STUYVESANT   \n",
              "27287   1936       3  BEDFORD STUYVESANT   \n",
              "27288   1937       3  BEDFORD STUYVESANT   \n",
              "\n",
              "                           BUILDING CLASS CATEGORY TAX CLASS AT PRESENT  \\\n",
              "0      07 RENTALS - WALKUP APARTMENTS                                2A   \n",
              "3      07 RENTALS - WALKUP APARTMENTS                                2B   \n",
              "4      07 RENTALS - WALKUP APARTMENTS                                2A   \n",
              "6      07 RENTALS - WALKUP APARTMENTS                                2B   \n",
              "9      08 RENTALS - ELEVATOR APARTMENTS                               2   \n",
              "...                                            ...                  ...   \n",
              "27284  05 TAX CLASS 1 VACANT LAND                                    1B   \n",
              "27285  05 TAX CLASS 1 VACANT LAND                                    1B   \n",
              "27286  05 TAX CLASS 1 VACANT LAND                                    1B   \n",
              "27287  05 TAX CLASS 1 VACANT LAND                                    1B   \n",
              "27288  05 TAX CLASS 1 VACANT LAND                                    1B   \n",
              "\n",
              "       BLOCK  LOT EASE-MENT BUILDING_CLASS_AT_PRESENT                 ADDRESS  \\\n",
              "0        392    6                                  C2            153 AVENUE B   \n",
              "3        402   21                                  C4     154 EAST 7TH STREET   \n",
              "4        404   55                                  C2  301 EAST 10TH   STREET   \n",
              "6        406   32                                  C4            210 AVENUE B   \n",
              "9        387  153                                  D9     629 EAST 5TH STREET   \n",
              "...      ...  ...       ...                       ...                     ...   \n",
              "27284   1709    4                                  V0     47 ROCHESTER AVENUE   \n",
              "27285   1763   51                                  V0         218 WALWORTH ST   \n",
              "27286   1772   53                                  V0      197 PULASKI STREET   \n",
              "27287   1772   59                                  V0      187 PULASKI STREET   \n",
              "27288   1786   51                                  V0        LAFAYETTE AVENUE   \n",
              "\n",
              "       ... RESIDENTIAL UNITS  COMMERCIAL UNITS  TOTAL UNITS  LAND SQUARE FEET  \\\n",
              "0      ...                 5                 0            5            1633.0   \n",
              "3      ...                10                 0           10            2272.0   \n",
              "4      ...                 6                 0            6            2369.0   \n",
              "6      ...                 8                 0            8            1750.0   \n",
              "9      ...                24                 0           24            4489.0   \n",
              "...    ...               ...               ...          ...               ...   \n",
              "27284  ...                 0                 0            0            1269.0   \n",
              "27285  ...                 0                 0            0            2000.0   \n",
              "27286  ...                 0                 0            0            2025.0   \n",
              "27287  ...                 0                 0            0            2000.0   \n",
              "27288  ...                 0                 0            0            1400.0   \n",
              "\n",
              "       GROSS_SQUARE_FEET  YEAR_BUILT  TAX_CLASS_AT_TIME_OF_SALE  \\\n",
              "0                 6440.0      1900.0                        2.0   \n",
              "3                 6794.0      1913.0                        2.0   \n",
              "4                 4615.0      1900.0                        2.0   \n",
              "6                 4226.0      1920.0                        2.0   \n",
              "9                18523.0      1920.0                        2.0   \n",
              "...                  ...         ...                        ...   \n",
              "27284                0.0         0.0                        1.0   \n",
              "27285                0.0         0.0                        1.0   \n",
              "27286                0.0         0.0                        1.0   \n",
              "27287                0.0         0.0                        1.0   \n",
              "27288                0.0         0.0                        1.0   \n",
              "\n",
              "       BUILDING CLASS AT TIME OF SALE  SALE_PRICE      SALE DATE  \n",
              "0                                  C2   6625000.0   7/19/17 0:00  \n",
              "3                                  C4   3936272.0   9/23/16 0:00  \n",
              "4                                  C2   8000000.0  11/17/16 0:00  \n",
              "6                                  C4   3192840.0   9/23/16 0:00  \n",
              "9                                  D9  16232000.0   11/7/16 0:00  \n",
              "...                               ...         ...            ...  \n",
              "27284                              V0    325000.0    7/7/17 0:00  \n",
              "27285                              V0   1350000.0    3/8/17 0:00  \n",
              "27286                              V0     50000.0   9/27/16 0:00  \n",
              "27287                              V0    580000.0   12/1/16 0:00  \n",
              "27288                              V0   1100000.0    5/5/17 0:00  \n",
              "\n",
              "[23422 rows x 22 columns]"
            ],
            "text/html": [
              "\n",
              "  <div id=\"df-b7579166-c662-4b1b-90cb-a4d773f8182a\">\n",
              "    <div class=\"colab-df-container\">\n",
              "      <div>\n",
              "<style scoped>\n",
              "    .dataframe tbody tr th:only-of-type {\n",
              "        vertical-align: middle;\n",
              "    }\n",
              "\n",
              "    .dataframe tbody tr th {\n",
              "        vertical-align: top;\n",
              "    }\n",
              "\n",
              "    .dataframe thead th {\n",
              "        text-align: right;\n",
              "    }\n",
              "</style>\n",
              "<table border=\"1\" class=\"dataframe\">\n",
              "  <thead>\n",
              "    <tr style=\"text-align: right;\">\n",
              "      <th></th>\n",
              "      <th>Sales</th>\n",
              "      <th>BOROUGH</th>\n",
              "      <th>NEIGHBORHOOD</th>\n",
              "      <th>BUILDING CLASS CATEGORY</th>\n",
              "      <th>TAX CLASS AT PRESENT</th>\n",
              "      <th>BLOCK</th>\n",
              "      <th>LOT</th>\n",
              "      <th>EASE-MENT</th>\n",
              "      <th>BUILDING_CLASS_AT_PRESENT</th>\n",
              "      <th>ADDRESS</th>\n",
              "      <th>...</th>\n",
              "      <th>RESIDENTIAL UNITS</th>\n",
              "      <th>COMMERCIAL UNITS</th>\n",
              "      <th>TOTAL UNITS</th>\n",
              "      <th>LAND SQUARE FEET</th>\n",
              "      <th>GROSS_SQUARE_FEET</th>\n",
              "      <th>YEAR_BUILT</th>\n",
              "      <th>TAX_CLASS_AT_TIME_OF_SALE</th>\n",
              "      <th>BUILDING CLASS AT TIME OF SALE</th>\n",
              "      <th>SALE_PRICE</th>\n",
              "      <th>SALE DATE</th>\n",
              "    </tr>\n",
              "  </thead>\n",
              "  <tbody>\n",
              "    <tr>\n",
              "      <th>0</th>\n",
              "      <td>4</td>\n",
              "      <td>1</td>\n",
              "      <td>ALPHABET CITY</td>\n",
              "      <td>07 RENTALS - WALKUP APARTMENTS</td>\n",
              "      <td>2A</td>\n",
              "      <td>392</td>\n",
              "      <td>6</td>\n",
              "      <td></td>\n",
              "      <td>C2</td>\n",
              "      <td>153 AVENUE B</td>\n",
              "      <td>...</td>\n",
              "      <td>5</td>\n",
              "      <td>0</td>\n",
              "      <td>5</td>\n",
              "      <td>1633.0</td>\n",
              "      <td>6440.0</td>\n",
              "      <td>1900.0</td>\n",
              "      <td>2.0</td>\n",
              "      <td>C2</td>\n",
              "      <td>6625000.0</td>\n",
              "      <td>7/19/17 0:00</td>\n",
              "    </tr>\n",
              "    <tr>\n",
              "      <th>3</th>\n",
              "      <td>7</td>\n",
              "      <td>1</td>\n",
              "      <td>ALPHABET CITY</td>\n",
              "      <td>07 RENTALS - WALKUP APARTMENTS</td>\n",
              "      <td>2B</td>\n",
              "      <td>402</td>\n",
              "      <td>21</td>\n",
              "      <td></td>\n",
              "      <td>C4</td>\n",
              "      <td>154 EAST 7TH STREET</td>\n",
              "      <td>...</td>\n",
              "      <td>10</td>\n",
              "      <td>0</td>\n",
              "      <td>10</td>\n",
              "      <td>2272.0</td>\n",
              "      <td>6794.0</td>\n",
              "      <td>1913.0</td>\n",
              "      <td>2.0</td>\n",
              "      <td>C4</td>\n",
              "      <td>3936272.0</td>\n",
              "      <td>9/23/16 0:00</td>\n",
              "    </tr>\n",
              "    <tr>\n",
              "      <th>4</th>\n",
              "      <td>8</td>\n",
              "      <td>1</td>\n",
              "      <td>ALPHABET CITY</td>\n",
              "      <td>07 RENTALS - WALKUP APARTMENTS</td>\n",
              "      <td>2A</td>\n",
              "      <td>404</td>\n",
              "      <td>55</td>\n",
              "      <td></td>\n",
              "      <td>C2</td>\n",
              "      <td>301 EAST 10TH   STREET</td>\n",
              "      <td>...</td>\n",
              "      <td>6</td>\n",
              "      <td>0</td>\n",
              "      <td>6</td>\n",
              "      <td>2369.0</td>\n",
              "      <td>4615.0</td>\n",
              "      <td>1900.0</td>\n",
              "      <td>2.0</td>\n",
              "      <td>C2</td>\n",
              "      <td>8000000.0</td>\n",
              "      <td>11/17/16 0:00</td>\n",
              "    </tr>\n",
              "    <tr>\n",
              "      <th>6</th>\n",
              "      <td>10</td>\n",
              "      <td>1</td>\n",
              "      <td>ALPHABET CITY</td>\n",
              "      <td>07 RENTALS - WALKUP APARTMENTS</td>\n",
              "      <td>2B</td>\n",
              "      <td>406</td>\n",
              "      <td>32</td>\n",
              "      <td></td>\n",
              "      <td>C4</td>\n",
              "      <td>210 AVENUE B</td>\n",
              "      <td>...</td>\n",
              "      <td>8</td>\n",
              "      <td>0</td>\n",
              "      <td>8</td>\n",
              "      <td>1750.0</td>\n",
              "      <td>4226.0</td>\n",
              "      <td>1920.0</td>\n",
              "      <td>2.0</td>\n",
              "      <td>C4</td>\n",
              "      <td>3192840.0</td>\n",
              "      <td>9/23/16 0:00</td>\n",
              "    </tr>\n",
              "    <tr>\n",
              "      <th>9</th>\n",
              "      <td>13</td>\n",
              "      <td>1</td>\n",
              "      <td>ALPHABET CITY</td>\n",
              "      <td>08 RENTALS - ELEVATOR APARTMENTS</td>\n",
              "      <td>2</td>\n",
              "      <td>387</td>\n",
              "      <td>153</td>\n",
              "      <td></td>\n",
              "      <td>D9</td>\n",
              "      <td>629 EAST 5TH STREET</td>\n",
              "      <td>...</td>\n",
              "      <td>24</td>\n",
              "      <td>0</td>\n",
              "      <td>24</td>\n",
              "      <td>4489.0</td>\n",
              "      <td>18523.0</td>\n",
              "      <td>1920.0</td>\n",
              "      <td>2.0</td>\n",
              "      <td>D9</td>\n",
              "      <td>16232000.0</td>\n",
              "      <td>11/7/16 0:00</td>\n",
              "    </tr>\n",
              "    <tr>\n",
              "      <th>...</th>\n",
              "      <td>...</td>\n",
              "      <td>...</td>\n",
              "      <td>...</td>\n",
              "      <td>...</td>\n",
              "      <td>...</td>\n",
              "      <td>...</td>\n",
              "      <td>...</td>\n",
              "      <td>...</td>\n",
              "      <td>...</td>\n",
              "      <td>...</td>\n",
              "      <td>...</td>\n",
              "      <td>...</td>\n",
              "      <td>...</td>\n",
              "      <td>...</td>\n",
              "      <td>...</td>\n",
              "      <td>...</td>\n",
              "      <td>...</td>\n",
              "      <td>...</td>\n",
              "      <td>...</td>\n",
              "      <td>...</td>\n",
              "      <td>...</td>\n",
              "    </tr>\n",
              "    <tr>\n",
              "      <th>27284</th>\n",
              "      <td>1933</td>\n",
              "      <td>3</td>\n",
              "      <td>BEDFORD STUYVESANT</td>\n",
              "      <td>05 TAX CLASS 1 VACANT LAND</td>\n",
              "      <td>1B</td>\n",
              "      <td>1709</td>\n",
              "      <td>4</td>\n",
              "      <td></td>\n",
              "      <td>V0</td>\n",
              "      <td>47 ROCHESTER AVENUE</td>\n",
              "      <td>...</td>\n",
              "      <td>0</td>\n",
              "      <td>0</td>\n",
              "      <td>0</td>\n",
              "      <td>1269.0</td>\n",
              "      <td>0.0</td>\n",
              "      <td>0.0</td>\n",
              "      <td>1.0</td>\n",
              "      <td>V0</td>\n",
              "      <td>325000.0</td>\n",
              "      <td>7/7/17 0:00</td>\n",
              "    </tr>\n",
              "    <tr>\n",
              "      <th>27285</th>\n",
              "      <td>1934</td>\n",
              "      <td>3</td>\n",
              "      <td>BEDFORD STUYVESANT</td>\n",
              "      <td>05 TAX CLASS 1 VACANT LAND</td>\n",
              "      <td>1B</td>\n",
              "      <td>1763</td>\n",
              "      <td>51</td>\n",
              "      <td></td>\n",
              "      <td>V0</td>\n",
              "      <td>218 WALWORTH ST</td>\n",
              "      <td>...</td>\n",
              "      <td>0</td>\n",
              "      <td>0</td>\n",
              "      <td>0</td>\n",
              "      <td>2000.0</td>\n",
              "      <td>0.0</td>\n",
              "      <td>0.0</td>\n",
              "      <td>1.0</td>\n",
              "      <td>V0</td>\n",
              "      <td>1350000.0</td>\n",
              "      <td>3/8/17 0:00</td>\n",
              "    </tr>\n",
              "    <tr>\n",
              "      <th>27286</th>\n",
              "      <td>1935</td>\n",
              "      <td>3</td>\n",
              "      <td>BEDFORD STUYVESANT</td>\n",
              "      <td>05 TAX CLASS 1 VACANT LAND</td>\n",
              "      <td>1B</td>\n",
              "      <td>1772</td>\n",
              "      <td>53</td>\n",
              "      <td></td>\n",
              "      <td>V0</td>\n",
              "      <td>197 PULASKI STREET</td>\n",
              "      <td>...</td>\n",
              "      <td>0</td>\n",
              "      <td>0</td>\n",
              "      <td>0</td>\n",
              "      <td>2025.0</td>\n",
              "      <td>0.0</td>\n",
              "      <td>0.0</td>\n",
              "      <td>1.0</td>\n",
              "      <td>V0</td>\n",
              "      <td>50000.0</td>\n",
              "      <td>9/27/16 0:00</td>\n",
              "    </tr>\n",
              "    <tr>\n",
              "      <th>27287</th>\n",
              "      <td>1936</td>\n",
              "      <td>3</td>\n",
              "      <td>BEDFORD STUYVESANT</td>\n",
              "      <td>05 TAX CLASS 1 VACANT LAND</td>\n",
              "      <td>1B</td>\n",
              "      <td>1772</td>\n",
              "      <td>59</td>\n",
              "      <td></td>\n",
              "      <td>V0</td>\n",
              "      <td>187 PULASKI STREET</td>\n",
              "      <td>...</td>\n",
              "      <td>0</td>\n",
              "      <td>0</td>\n",
              "      <td>0</td>\n",
              "      <td>2000.0</td>\n",
              "      <td>0.0</td>\n",
              "      <td>0.0</td>\n",
              "      <td>1.0</td>\n",
              "      <td>V0</td>\n",
              "      <td>580000.0</td>\n",
              "      <td>12/1/16 0:00</td>\n",
              "    </tr>\n",
              "    <tr>\n",
              "      <th>27288</th>\n",
              "      <td>1937</td>\n",
              "      <td>3</td>\n",
              "      <td>BEDFORD STUYVESANT</td>\n",
              "      <td>05 TAX CLASS 1 VACANT LAND</td>\n",
              "      <td>1B</td>\n",
              "      <td>1786</td>\n",
              "      <td>51</td>\n",
              "      <td></td>\n",
              "      <td>V0</td>\n",
              "      <td>LAFAYETTE AVENUE</td>\n",
              "      <td>...</td>\n",
              "      <td>0</td>\n",
              "      <td>0</td>\n",
              "      <td>0</td>\n",
              "      <td>1400.0</td>\n",
              "      <td>0.0</td>\n",
              "      <td>0.0</td>\n",
              "      <td>1.0</td>\n",
              "      <td>V0</td>\n",
              "      <td>1100000.0</td>\n",
              "      <td>5/5/17 0:00</td>\n",
              "    </tr>\n",
              "  </tbody>\n",
              "</table>\n",
              "<p>23422 rows × 22 columns</p>\n",
              "</div>\n",
              "      <button class=\"colab-df-convert\" onclick=\"convertToInteractive('df-b7579166-c662-4b1b-90cb-a4d773f8182a')\"\n",
              "              title=\"Convert this dataframe to an interactive table.\"\n",
              "              style=\"display:none;\">\n",
              "        \n",
              "  <svg xmlns=\"http://www.w3.org/2000/svg\" height=\"24px\"viewBox=\"0 0 24 24\"\n",
              "       width=\"24px\">\n",
              "    <path d=\"M0 0h24v24H0V0z\" fill=\"none\"/>\n",
              "    <path d=\"M18.56 5.44l.94 2.06.94-2.06 2.06-.94-2.06-.94-.94-2.06-.94 2.06-2.06.94zm-11 1L8.5 8.5l.94-2.06 2.06-.94-2.06-.94L8.5 2.5l-.94 2.06-2.06.94zm10 10l.94 2.06.94-2.06 2.06-.94-2.06-.94-.94-2.06-.94 2.06-2.06.94z\"/><path d=\"M17.41 7.96l-1.37-1.37c-.4-.4-.92-.59-1.43-.59-.52 0-1.04.2-1.43.59L10.3 9.45l-7.72 7.72c-.78.78-.78 2.05 0 2.83L4 21.41c.39.39.9.59 1.41.59.51 0 1.02-.2 1.41-.59l7.78-7.78 2.81-2.81c.8-.78.8-2.07 0-2.86zM5.41 20L4 18.59l7.72-7.72 1.47 1.35L5.41 20z\"/>\n",
              "  </svg>\n",
              "      </button>\n",
              "      \n",
              "  <style>\n",
              "    .colab-df-container {\n",
              "      display:flex;\n",
              "      flex-wrap:wrap;\n",
              "      gap: 12px;\n",
              "    }\n",
              "\n",
              "    .colab-df-convert {\n",
              "      background-color: #E8F0FE;\n",
              "      border: none;\n",
              "      border-radius: 50%;\n",
              "      cursor: pointer;\n",
              "      display: none;\n",
              "      fill: #1967D2;\n",
              "      height: 32px;\n",
              "      padding: 0 0 0 0;\n",
              "      width: 32px;\n",
              "    }\n",
              "\n",
              "    .colab-df-convert:hover {\n",
              "      background-color: #E2EBFA;\n",
              "      box-shadow: 0px 1px 2px rgba(60, 64, 67, 0.3), 0px 1px 3px 1px rgba(60, 64, 67, 0.15);\n",
              "      fill: #174EA6;\n",
              "    }\n",
              "\n",
              "    [theme=dark] .colab-df-convert {\n",
              "      background-color: #3B4455;\n",
              "      fill: #D2E3FC;\n",
              "    }\n",
              "\n",
              "    [theme=dark] .colab-df-convert:hover {\n",
              "      background-color: #434B5C;\n",
              "      box-shadow: 0px 1px 3px 1px rgba(0, 0, 0, 0.15);\n",
              "      filter: drop-shadow(0px 1px 2px rgba(0, 0, 0, 0.3));\n",
              "      fill: #FFFFFF;\n",
              "    }\n",
              "  </style>\n",
              "\n",
              "      <script>\n",
              "        const buttonEl =\n",
              "          document.querySelector('#df-b7579166-c662-4b1b-90cb-a4d773f8182a button.colab-df-convert');\n",
              "        buttonEl.style.display =\n",
              "          google.colab.kernel.accessAllowed ? 'block' : 'none';\n",
              "\n",
              "        async function convertToInteractive(key) {\n",
              "          const element = document.querySelector('#df-b7579166-c662-4b1b-90cb-a4d773f8182a');\n",
              "          const dataTable =\n",
              "            await google.colab.kernel.invokeFunction('convertToInteractive',\n",
              "                                                     [key], {});\n",
              "          if (!dataTable) return;\n",
              "\n",
              "          const docLinkHtml = 'Like what you see? Visit the ' +\n",
              "            '<a target=\"_blank\" href=https://colab.research.google.com/notebooks/data_table.ipynb>data table notebook</a>'\n",
              "            + ' to learn more about interactive tables.';\n",
              "          element.innerHTML = '';\n",
              "          dataTable['output_type'] = 'display_data';\n",
              "          await google.colab.output.renderOutput(dataTable, element);\n",
              "          const docLink = document.createElement('div');\n",
              "          docLink.innerHTML = docLinkHtml;\n",
              "          element.appendChild(docLink);\n",
              "        }\n",
              "      </script>\n",
              "    </div>\n",
              "  </div>\n",
              "  "
            ]
          },
          "metadata": {},
          "execution_count": 22
        }
      ]
    },
    {
      "cell_type": "markdown",
      "source": [
        "***PART A***"
      ],
      "metadata": {
        "id": "F26YiXVIrN_x"
      }
    },
    {
      "cell_type": "markdown",
      "source": [
        "**Q1. Replace the “0” Values in “RESIDENTIAL UNITS” with average of “RESIDENTIAL UNITS”.**"
      ],
      "metadata": {
        "id": "kJr4YucqrGyK"
      }
    },
    {
      "cell_type": "code",
      "source": [
        "#Replace the “0” Values in “RESIDENTIAL UNITS” with average of “RESIDENTIAL UNITS”.\n",
        "df['RESIDENTIAL_UNITS'] = df['RESIDENTIAL_UNITS'].map( lambda x : df.RESIDENTIAL_UNITS.mean() if x == 0 else x)"
      ],
      "metadata": {
        "id": "0Z_Q-8QbLoOz"
      },
      "execution_count": 25,
      "outputs": []
    },
    {
      "cell_type": "code",
      "source": [
        "df"
      ],
      "metadata": {
        "colab": {
          "base_uri": "https://localhost:8080/",
          "height": 973
        },
        "id": "od9zVobALoZZ",
        "outputId": "136147c2-86d0-417d-eae6-cf003d9b5ca6"
      },
      "execution_count": 26,
      "outputs": [
        {
          "output_type": "execute_result",
          "data": {
            "text/plain": [
              "       Sales BOROUGH        NEIGHBORHOOD  \\\n",
              "0          4       1       ALPHABET CITY   \n",
              "3          7       1       ALPHABET CITY   \n",
              "4          8       1       ALPHABET CITY   \n",
              "6         10       1       ALPHABET CITY   \n",
              "9         13       1       ALPHABET CITY   \n",
              "...      ...     ...                 ...   \n",
              "27284   1933       3  BEDFORD STUYVESANT   \n",
              "27285   1934       3  BEDFORD STUYVESANT   \n",
              "27286   1935       3  BEDFORD STUYVESANT   \n",
              "27287   1936       3  BEDFORD STUYVESANT   \n",
              "27288   1937       3  BEDFORD STUYVESANT   \n",
              "\n",
              "                           BUILDING CLASS CATEGORY TAX CLASS AT PRESENT  \\\n",
              "0      07 RENTALS - WALKUP APARTMENTS                                2A   \n",
              "3      07 RENTALS - WALKUP APARTMENTS                                2B   \n",
              "4      07 RENTALS - WALKUP APARTMENTS                                2A   \n",
              "6      07 RENTALS - WALKUP APARTMENTS                                2B   \n",
              "9      08 RENTALS - ELEVATOR APARTMENTS                               2   \n",
              "...                                            ...                  ...   \n",
              "27284  05 TAX CLASS 1 VACANT LAND                                    1B   \n",
              "27285  05 TAX CLASS 1 VACANT LAND                                    1B   \n",
              "27286  05 TAX CLASS 1 VACANT LAND                                    1B   \n",
              "27287  05 TAX CLASS 1 VACANT LAND                                    1B   \n",
              "27288  05 TAX CLASS 1 VACANT LAND                                    1B   \n",
              "\n",
              "       BLOCK  LOT EASE-MENT BUILDING_CLASS_AT_PRESENT                 ADDRESS  \\\n",
              "0        392    6                                  C2            153 AVENUE B   \n",
              "3        402   21                                  C4     154 EAST 7TH STREET   \n",
              "4        404   55                                  C2  301 EAST 10TH   STREET   \n",
              "6        406   32                                  C4            210 AVENUE B   \n",
              "9        387  153                                  D9     629 EAST 5TH STREET   \n",
              "...      ...  ...       ...                       ...                     ...   \n",
              "27284   1709    4                                  V0     47 ROCHESTER AVENUE   \n",
              "27285   1763   51                                  V0         218 WALWORTH ST   \n",
              "27286   1772   53                                  V0      197 PULASKI STREET   \n",
              "27287   1772   59                                  V0      187 PULASKI STREET   \n",
              "27288   1786   51                                  V0        LAFAYETTE AVENUE   \n",
              "\n",
              "       ... RESIDENTIAL_UNITS  COMMERCIAL UNITS  TOTAL UNITS  LAND SQUARE FEET  \\\n",
              "0      ...          5.000000                 0            5            1633.0   \n",
              "3      ...         10.000000                 0           10            2272.0   \n",
              "4      ...          6.000000                 0            6            2369.0   \n",
              "6      ...          8.000000                 0            8            1750.0   \n",
              "9      ...         24.000000                 0           24            4489.0   \n",
              "...    ...               ...               ...          ...               ...   \n",
              "27284  ...          2.275083                 0            0            1269.0   \n",
              "27285  ...          2.275083                 0            0            2000.0   \n",
              "27286  ...          2.275083                 0            0            2025.0   \n",
              "27287  ...          2.275083                 0            0            2000.0   \n",
              "27288  ...          2.275083                 0            0            1400.0   \n",
              "\n",
              "       GROSS_SQUARE_FEET  YEAR_BUILT  TAX_CLASS_AT_TIME_OF_SALE  \\\n",
              "0                 6440.0      1900.0                        2.0   \n",
              "3                 6794.0      1913.0                        2.0   \n",
              "4                 4615.0      1900.0                        2.0   \n",
              "6                 4226.0      1920.0                        2.0   \n",
              "9                18523.0      1920.0                        2.0   \n",
              "...                  ...         ...                        ...   \n",
              "27284                0.0         0.0                        1.0   \n",
              "27285                0.0         0.0                        1.0   \n",
              "27286                0.0         0.0                        1.0   \n",
              "27287                0.0         0.0                        1.0   \n",
              "27288                0.0         0.0                        1.0   \n",
              "\n",
              "       BUILDING CLASS AT TIME OF SALE  SALE_PRICE      SALE DATE  \n",
              "0                                  C2   6625000.0   7/19/17 0:00  \n",
              "3                                  C4   3936272.0   9/23/16 0:00  \n",
              "4                                  C2   8000000.0  11/17/16 0:00  \n",
              "6                                  C4   3192840.0   9/23/16 0:00  \n",
              "9                                  D9  16232000.0   11/7/16 0:00  \n",
              "...                               ...         ...            ...  \n",
              "27284                              V0    325000.0    7/7/17 0:00  \n",
              "27285                              V0   1350000.0    3/8/17 0:00  \n",
              "27286                              V0     50000.0   9/27/16 0:00  \n",
              "27287                              V0    580000.0   12/1/16 0:00  \n",
              "27288                              V0   1100000.0    5/5/17 0:00  \n",
              "\n",
              "[23422 rows x 22 columns]"
            ],
            "text/html": [
              "\n",
              "  <div id=\"df-953d7d73-e94c-4ad4-b7cc-bc9a2e728d4f\">\n",
              "    <div class=\"colab-df-container\">\n",
              "      <div>\n",
              "<style scoped>\n",
              "    .dataframe tbody tr th:only-of-type {\n",
              "        vertical-align: middle;\n",
              "    }\n",
              "\n",
              "    .dataframe tbody tr th {\n",
              "        vertical-align: top;\n",
              "    }\n",
              "\n",
              "    .dataframe thead th {\n",
              "        text-align: right;\n",
              "    }\n",
              "</style>\n",
              "<table border=\"1\" class=\"dataframe\">\n",
              "  <thead>\n",
              "    <tr style=\"text-align: right;\">\n",
              "      <th></th>\n",
              "      <th>Sales</th>\n",
              "      <th>BOROUGH</th>\n",
              "      <th>NEIGHBORHOOD</th>\n",
              "      <th>BUILDING CLASS CATEGORY</th>\n",
              "      <th>TAX CLASS AT PRESENT</th>\n",
              "      <th>BLOCK</th>\n",
              "      <th>LOT</th>\n",
              "      <th>EASE-MENT</th>\n",
              "      <th>BUILDING_CLASS_AT_PRESENT</th>\n",
              "      <th>ADDRESS</th>\n",
              "      <th>...</th>\n",
              "      <th>RESIDENTIAL_UNITS</th>\n",
              "      <th>COMMERCIAL UNITS</th>\n",
              "      <th>TOTAL UNITS</th>\n",
              "      <th>LAND SQUARE FEET</th>\n",
              "      <th>GROSS_SQUARE_FEET</th>\n",
              "      <th>YEAR_BUILT</th>\n",
              "      <th>TAX_CLASS_AT_TIME_OF_SALE</th>\n",
              "      <th>BUILDING CLASS AT TIME OF SALE</th>\n",
              "      <th>SALE_PRICE</th>\n",
              "      <th>SALE DATE</th>\n",
              "    </tr>\n",
              "  </thead>\n",
              "  <tbody>\n",
              "    <tr>\n",
              "      <th>0</th>\n",
              "      <td>4</td>\n",
              "      <td>1</td>\n",
              "      <td>ALPHABET CITY</td>\n",
              "      <td>07 RENTALS - WALKUP APARTMENTS</td>\n",
              "      <td>2A</td>\n",
              "      <td>392</td>\n",
              "      <td>6</td>\n",
              "      <td></td>\n",
              "      <td>C2</td>\n",
              "      <td>153 AVENUE B</td>\n",
              "      <td>...</td>\n",
              "      <td>5.000000</td>\n",
              "      <td>0</td>\n",
              "      <td>5</td>\n",
              "      <td>1633.0</td>\n",
              "      <td>6440.0</td>\n",
              "      <td>1900.0</td>\n",
              "      <td>2.0</td>\n",
              "      <td>C2</td>\n",
              "      <td>6625000.0</td>\n",
              "      <td>7/19/17 0:00</td>\n",
              "    </tr>\n",
              "    <tr>\n",
              "      <th>3</th>\n",
              "      <td>7</td>\n",
              "      <td>1</td>\n",
              "      <td>ALPHABET CITY</td>\n",
              "      <td>07 RENTALS - WALKUP APARTMENTS</td>\n",
              "      <td>2B</td>\n",
              "      <td>402</td>\n",
              "      <td>21</td>\n",
              "      <td></td>\n",
              "      <td>C4</td>\n",
              "      <td>154 EAST 7TH STREET</td>\n",
              "      <td>...</td>\n",
              "      <td>10.000000</td>\n",
              "      <td>0</td>\n",
              "      <td>10</td>\n",
              "      <td>2272.0</td>\n",
              "      <td>6794.0</td>\n",
              "      <td>1913.0</td>\n",
              "      <td>2.0</td>\n",
              "      <td>C4</td>\n",
              "      <td>3936272.0</td>\n",
              "      <td>9/23/16 0:00</td>\n",
              "    </tr>\n",
              "    <tr>\n",
              "      <th>4</th>\n",
              "      <td>8</td>\n",
              "      <td>1</td>\n",
              "      <td>ALPHABET CITY</td>\n",
              "      <td>07 RENTALS - WALKUP APARTMENTS</td>\n",
              "      <td>2A</td>\n",
              "      <td>404</td>\n",
              "      <td>55</td>\n",
              "      <td></td>\n",
              "      <td>C2</td>\n",
              "      <td>301 EAST 10TH   STREET</td>\n",
              "      <td>...</td>\n",
              "      <td>6.000000</td>\n",
              "      <td>0</td>\n",
              "      <td>6</td>\n",
              "      <td>2369.0</td>\n",
              "      <td>4615.0</td>\n",
              "      <td>1900.0</td>\n",
              "      <td>2.0</td>\n",
              "      <td>C2</td>\n",
              "      <td>8000000.0</td>\n",
              "      <td>11/17/16 0:00</td>\n",
              "    </tr>\n",
              "    <tr>\n",
              "      <th>6</th>\n",
              "      <td>10</td>\n",
              "      <td>1</td>\n",
              "      <td>ALPHABET CITY</td>\n",
              "      <td>07 RENTALS - WALKUP APARTMENTS</td>\n",
              "      <td>2B</td>\n",
              "      <td>406</td>\n",
              "      <td>32</td>\n",
              "      <td></td>\n",
              "      <td>C4</td>\n",
              "      <td>210 AVENUE B</td>\n",
              "      <td>...</td>\n",
              "      <td>8.000000</td>\n",
              "      <td>0</td>\n",
              "      <td>8</td>\n",
              "      <td>1750.0</td>\n",
              "      <td>4226.0</td>\n",
              "      <td>1920.0</td>\n",
              "      <td>2.0</td>\n",
              "      <td>C4</td>\n",
              "      <td>3192840.0</td>\n",
              "      <td>9/23/16 0:00</td>\n",
              "    </tr>\n",
              "    <tr>\n",
              "      <th>9</th>\n",
              "      <td>13</td>\n",
              "      <td>1</td>\n",
              "      <td>ALPHABET CITY</td>\n",
              "      <td>08 RENTALS - ELEVATOR APARTMENTS</td>\n",
              "      <td>2</td>\n",
              "      <td>387</td>\n",
              "      <td>153</td>\n",
              "      <td></td>\n",
              "      <td>D9</td>\n",
              "      <td>629 EAST 5TH STREET</td>\n",
              "      <td>...</td>\n",
              "      <td>24.000000</td>\n",
              "      <td>0</td>\n",
              "      <td>24</td>\n",
              "      <td>4489.0</td>\n",
              "      <td>18523.0</td>\n",
              "      <td>1920.0</td>\n",
              "      <td>2.0</td>\n",
              "      <td>D9</td>\n",
              "      <td>16232000.0</td>\n",
              "      <td>11/7/16 0:00</td>\n",
              "    </tr>\n",
              "    <tr>\n",
              "      <th>...</th>\n",
              "      <td>...</td>\n",
              "      <td>...</td>\n",
              "      <td>...</td>\n",
              "      <td>...</td>\n",
              "      <td>...</td>\n",
              "      <td>...</td>\n",
              "      <td>...</td>\n",
              "      <td>...</td>\n",
              "      <td>...</td>\n",
              "      <td>...</td>\n",
              "      <td>...</td>\n",
              "      <td>...</td>\n",
              "      <td>...</td>\n",
              "      <td>...</td>\n",
              "      <td>...</td>\n",
              "      <td>...</td>\n",
              "      <td>...</td>\n",
              "      <td>...</td>\n",
              "      <td>...</td>\n",
              "      <td>...</td>\n",
              "      <td>...</td>\n",
              "    </tr>\n",
              "    <tr>\n",
              "      <th>27284</th>\n",
              "      <td>1933</td>\n",
              "      <td>3</td>\n",
              "      <td>BEDFORD STUYVESANT</td>\n",
              "      <td>05 TAX CLASS 1 VACANT LAND</td>\n",
              "      <td>1B</td>\n",
              "      <td>1709</td>\n",
              "      <td>4</td>\n",
              "      <td></td>\n",
              "      <td>V0</td>\n",
              "      <td>47 ROCHESTER AVENUE</td>\n",
              "      <td>...</td>\n",
              "      <td>2.275083</td>\n",
              "      <td>0</td>\n",
              "      <td>0</td>\n",
              "      <td>1269.0</td>\n",
              "      <td>0.0</td>\n",
              "      <td>0.0</td>\n",
              "      <td>1.0</td>\n",
              "      <td>V0</td>\n",
              "      <td>325000.0</td>\n",
              "      <td>7/7/17 0:00</td>\n",
              "    </tr>\n",
              "    <tr>\n",
              "      <th>27285</th>\n",
              "      <td>1934</td>\n",
              "      <td>3</td>\n",
              "      <td>BEDFORD STUYVESANT</td>\n",
              "      <td>05 TAX CLASS 1 VACANT LAND</td>\n",
              "      <td>1B</td>\n",
              "      <td>1763</td>\n",
              "      <td>51</td>\n",
              "      <td></td>\n",
              "      <td>V0</td>\n",
              "      <td>218 WALWORTH ST</td>\n",
              "      <td>...</td>\n",
              "      <td>2.275083</td>\n",
              "      <td>0</td>\n",
              "      <td>0</td>\n",
              "      <td>2000.0</td>\n",
              "      <td>0.0</td>\n",
              "      <td>0.0</td>\n",
              "      <td>1.0</td>\n",
              "      <td>V0</td>\n",
              "      <td>1350000.0</td>\n",
              "      <td>3/8/17 0:00</td>\n",
              "    </tr>\n",
              "    <tr>\n",
              "      <th>27286</th>\n",
              "      <td>1935</td>\n",
              "      <td>3</td>\n",
              "      <td>BEDFORD STUYVESANT</td>\n",
              "      <td>05 TAX CLASS 1 VACANT LAND</td>\n",
              "      <td>1B</td>\n",
              "      <td>1772</td>\n",
              "      <td>53</td>\n",
              "      <td></td>\n",
              "      <td>V0</td>\n",
              "      <td>197 PULASKI STREET</td>\n",
              "      <td>...</td>\n",
              "      <td>2.275083</td>\n",
              "      <td>0</td>\n",
              "      <td>0</td>\n",
              "      <td>2025.0</td>\n",
              "      <td>0.0</td>\n",
              "      <td>0.0</td>\n",
              "      <td>1.0</td>\n",
              "      <td>V0</td>\n",
              "      <td>50000.0</td>\n",
              "      <td>9/27/16 0:00</td>\n",
              "    </tr>\n",
              "    <tr>\n",
              "      <th>27287</th>\n",
              "      <td>1936</td>\n",
              "      <td>3</td>\n",
              "      <td>BEDFORD STUYVESANT</td>\n",
              "      <td>05 TAX CLASS 1 VACANT LAND</td>\n",
              "      <td>1B</td>\n",
              "      <td>1772</td>\n",
              "      <td>59</td>\n",
              "      <td></td>\n",
              "      <td>V0</td>\n",
              "      <td>187 PULASKI STREET</td>\n",
              "      <td>...</td>\n",
              "      <td>2.275083</td>\n",
              "      <td>0</td>\n",
              "      <td>0</td>\n",
              "      <td>2000.0</td>\n",
              "      <td>0.0</td>\n",
              "      <td>0.0</td>\n",
              "      <td>1.0</td>\n",
              "      <td>V0</td>\n",
              "      <td>580000.0</td>\n",
              "      <td>12/1/16 0:00</td>\n",
              "    </tr>\n",
              "    <tr>\n",
              "      <th>27288</th>\n",
              "      <td>1937</td>\n",
              "      <td>3</td>\n",
              "      <td>BEDFORD STUYVESANT</td>\n",
              "      <td>05 TAX CLASS 1 VACANT LAND</td>\n",
              "      <td>1B</td>\n",
              "      <td>1786</td>\n",
              "      <td>51</td>\n",
              "      <td></td>\n",
              "      <td>V0</td>\n",
              "      <td>LAFAYETTE AVENUE</td>\n",
              "      <td>...</td>\n",
              "      <td>2.275083</td>\n",
              "      <td>0</td>\n",
              "      <td>0</td>\n",
              "      <td>1400.0</td>\n",
              "      <td>0.0</td>\n",
              "      <td>0.0</td>\n",
              "      <td>1.0</td>\n",
              "      <td>V0</td>\n",
              "      <td>1100000.0</td>\n",
              "      <td>5/5/17 0:00</td>\n",
              "    </tr>\n",
              "  </tbody>\n",
              "</table>\n",
              "<p>23422 rows × 22 columns</p>\n",
              "</div>\n",
              "      <button class=\"colab-df-convert\" onclick=\"convertToInteractive('df-953d7d73-e94c-4ad4-b7cc-bc9a2e728d4f')\"\n",
              "              title=\"Convert this dataframe to an interactive table.\"\n",
              "              style=\"display:none;\">\n",
              "        \n",
              "  <svg xmlns=\"http://www.w3.org/2000/svg\" height=\"24px\"viewBox=\"0 0 24 24\"\n",
              "       width=\"24px\">\n",
              "    <path d=\"M0 0h24v24H0V0z\" fill=\"none\"/>\n",
              "    <path d=\"M18.56 5.44l.94 2.06.94-2.06 2.06-.94-2.06-.94-.94-2.06-.94 2.06-2.06.94zm-11 1L8.5 8.5l.94-2.06 2.06-.94-2.06-.94L8.5 2.5l-.94 2.06-2.06.94zm10 10l.94 2.06.94-2.06 2.06-.94-2.06-.94-.94-2.06-.94 2.06-2.06.94z\"/><path d=\"M17.41 7.96l-1.37-1.37c-.4-.4-.92-.59-1.43-.59-.52 0-1.04.2-1.43.59L10.3 9.45l-7.72 7.72c-.78.78-.78 2.05 0 2.83L4 21.41c.39.39.9.59 1.41.59.51 0 1.02-.2 1.41-.59l7.78-7.78 2.81-2.81c.8-.78.8-2.07 0-2.86zM5.41 20L4 18.59l7.72-7.72 1.47 1.35L5.41 20z\"/>\n",
              "  </svg>\n",
              "      </button>\n",
              "      \n",
              "  <style>\n",
              "    .colab-df-container {\n",
              "      display:flex;\n",
              "      flex-wrap:wrap;\n",
              "      gap: 12px;\n",
              "    }\n",
              "\n",
              "    .colab-df-convert {\n",
              "      background-color: #E8F0FE;\n",
              "      border: none;\n",
              "      border-radius: 50%;\n",
              "      cursor: pointer;\n",
              "      display: none;\n",
              "      fill: #1967D2;\n",
              "      height: 32px;\n",
              "      padding: 0 0 0 0;\n",
              "      width: 32px;\n",
              "    }\n",
              "\n",
              "    .colab-df-convert:hover {\n",
              "      background-color: #E2EBFA;\n",
              "      box-shadow: 0px 1px 2px rgba(60, 64, 67, 0.3), 0px 1px 3px 1px rgba(60, 64, 67, 0.15);\n",
              "      fill: #174EA6;\n",
              "    }\n",
              "\n",
              "    [theme=dark] .colab-df-convert {\n",
              "      background-color: #3B4455;\n",
              "      fill: #D2E3FC;\n",
              "    }\n",
              "\n",
              "    [theme=dark] .colab-df-convert:hover {\n",
              "      background-color: #434B5C;\n",
              "      box-shadow: 0px 1px 3px 1px rgba(0, 0, 0, 0.15);\n",
              "      filter: drop-shadow(0px 1px 2px rgba(0, 0, 0, 0.3));\n",
              "      fill: #FFFFFF;\n",
              "    }\n",
              "  </style>\n",
              "\n",
              "      <script>\n",
              "        const buttonEl =\n",
              "          document.querySelector('#df-953d7d73-e94c-4ad4-b7cc-bc9a2e728d4f button.colab-df-convert');\n",
              "        buttonEl.style.display =\n",
              "          google.colab.kernel.accessAllowed ? 'block' : 'none';\n",
              "\n",
              "        async function convertToInteractive(key) {\n",
              "          const element = document.querySelector('#df-953d7d73-e94c-4ad4-b7cc-bc9a2e728d4f');\n",
              "          const dataTable =\n",
              "            await google.colab.kernel.invokeFunction('convertToInteractive',\n",
              "                                                     [key], {});\n",
              "          if (!dataTable) return;\n",
              "\n",
              "          const docLinkHtml = 'Like what you see? Visit the ' +\n",
              "            '<a target=\"_blank\" href=https://colab.research.google.com/notebooks/data_table.ipynb>data table notebook</a>'\n",
              "            + ' to learn more about interactive tables.';\n",
              "          element.innerHTML = '';\n",
              "          dataTable['output_type'] = 'display_data';\n",
              "          await google.colab.output.renderOutput(dataTable, element);\n",
              "          const docLink = document.createElement('div');\n",
              "          docLink.innerHTML = docLinkHtml;\n",
              "          element.appendChild(docLink);\n",
              "        }\n",
              "      </script>\n",
              "    </div>\n",
              "  </div>\n",
              "  "
            ]
          },
          "metadata": {},
          "execution_count": 26
        }
      ]
    },
    {
      "cell_type": "markdown",
      "source": [
        "**Q2. Drop the NaN Values in “GROSS SQUARE FEET” then find the average.**"
      ],
      "metadata": {
        "id": "GT4beFbxsAnG"
      }
    },
    {
      "cell_type": "code",
      "source": [
        "#Drop the NaN Values in “GROSS SQUARE FEET” then find the average.\n",
        "df.dropna(subset=['GROSS_SQUARE_FEET'], inplace=True)"
      ],
      "metadata": {
        "id": "b2tYxnXTLob7"
      },
      "execution_count": 27,
      "outputs": []
    },
    {
      "cell_type": "code",
      "source": [
        "df['GROSS_SQUARE_FEET'].isnull().sum()"
      ],
      "metadata": {
        "colab": {
          "base_uri": "https://localhost:8080/"
        },
        "id": "5dYxem6ELofa",
        "outputId": "0c69fd0a-0acc-4e5c-bedf-595f593ef05a"
      },
      "execution_count": 28,
      "outputs": [
        {
          "output_type": "execute_result",
          "data": {
            "text/plain": [
              "0"
            ]
          },
          "metadata": {},
          "execution_count": 28
        }
      ]
    },
    {
      "cell_type": "code",
      "source": [
        "print(df.GROSS_SQUARE_FEET.mean())"
      ],
      "metadata": {
        "colab": {
          "base_uri": "https://localhost:8080/"
        },
        "id": "Q2yFbRLUNGma",
        "outputId": "8a2d90ff-3068-4ae4-f8e0-5c41be604b5c"
      },
      "execution_count": 29,
      "outputs": [
        {
          "output_type": "stream",
          "name": "stdout",
          "text": [
            "7455.127189032322\n"
          ]
        }
      ]
    },
    {
      "cell_type": "markdown",
      "source": [
        "**Q3. Display the STD deviation of “SALE PRICE”.**"
      ],
      "metadata": {
        "id": "h45W0l6wsLb-"
      }
    },
    {
      "cell_type": "code",
      "source": [
        "#Display the STD deviation of “SALE PRICE”.\n",
        "print(df.SALE_PRICE.std())"
      ],
      "metadata": {
        "colab": {
          "base_uri": "https://localhost:8080/"
        },
        "id": "Pu0bGZUKOOuo",
        "outputId": "0b624a6d-a732-4fbd-9f56-e477aa2299ec"
      },
      "execution_count": 30,
      "outputs": [
        {
          "output_type": "stream",
          "name": "stdout",
          "text": [
            "28511363.196091868\n"
          ]
        }
      ]
    },
    {
      "cell_type": "markdown",
      "source": [
        "**Q4. Find the relationship between “GROSS SQUARE FEET”, “SALE PRICE” and “RESIDENTIAL UNITS” using any graph you choose.**"
      ],
      "metadata": {
        "id": "KSTkd9DesRAt"
      }
    },
    {
      "cell_type": "code",
      "source": [
        "#Find the relationship between “GROSS SQUARE FEET”, “SALE PRICE” and “RESIDENTIAL UNITS” using any graph you choose.\n",
        "import matplotlib.pyplot as plt\n",
        "\n",
        "plt.scatter(df.GROSS_SQUARE_FEET, df.SALE_PRICE, c=df.RESIDENTIAL_UNITS)\n",
        "plt.xlabel('GROSS SQUARE FEET')\n",
        "plt.ylabel('SALE PRICE')"
      ],
      "metadata": {
        "colab": {
          "base_uri": "https://localhost:8080/",
          "height": 307
        },
        "id": "490GrIKZO17n",
        "outputId": "df6bb1ba-195b-423f-e03a-e447ce20b499"
      },
      "execution_count": 31,
      "outputs": [
        {
          "output_type": "execute_result",
          "data": {
            "text/plain": [
              "Text(0, 0.5, 'SALE PRICE')"
            ]
          },
          "metadata": {},
          "execution_count": 31
        },
        {
          "output_type": "display_data",
          "data": {
            "text/plain": [
              "<Figure size 432x288 with 1 Axes>"
            ],
            "image/png": "[encoded data removed]"
          },
          "metadata": {
            "needs_background": "light"
          }
        }
      ]
    },
    {
      "cell_type": "code",
      "source": [
        "import seaborn as sns\n",
        "sns.relplot(data=df, x=\"GROSS_SQUARE_FEET\", y=\"SALE_PRICE\", hue=\"RESIDENTIAL_UNITS\")"
      ],
      "metadata": {
        "colab": {
          "base_uri": "https://localhost:8080/",
          "height": 387
        },
        "id": "2nR6U6_Iw7fC",
        "outputId": "73338115-5500-4fe6-9a83-11f656566b2f"
      },
      "execution_count": 33,
      "outputs": [
        {
          "output_type": "execute_result",
          "data": {
            "text/plain": [
              "<seaborn.axisgrid.FacetGrid at 0x7fc184e4bb80>"
            ]
          },
          "metadata": {},
          "execution_count": 33
        },
        {
          "output_type": "display_data",
          "data": {
            "text/plain": [
              "<Figure size 468x360 with 1 Axes>"
            ],
            "image/png": "[encoded data removed]"
          },
          "metadata": {
            "needs_background": "light"
          }
        }
      ]
    },
    {
      "cell_type": "markdown",
      "source": [
        "**Q5. Count number of persons belongs to “ZIP CODE” as “10009” and “YEAR BUILT” is 2009.**"
      ],
      "metadata": {
        "id": "euDtRrW9soDe"
      }
    },
    {
      "cell_type": "code",
      "source": [
        "#Count number of persons belongs to “ZIP CODE” as “10009” and “YEAR BUILT” is 2009.\n",
        "\n",
        "print(df.ZIP_CODE.loc[(df[\"ZIP_CODE\"]==10009) & (df[\"YEAR_BUILT\"]==2009)].count())"
      ],
      "metadata": {
        "colab": {
          "base_uri": "https://localhost:8080/"
        },
        "id": "_ZdETjFKT_TW",
        "outputId": "13376000-0706-43b3-8bbc-a4179d5c4d46"
      },
      "execution_count": 34,
      "outputs": [
        {
          "output_type": "stream",
          "name": "stdout",
          "text": [
            "1\n"
          ]
        }
      ]
    },
    {
      "cell_type": "markdown",
      "source": [
        "**Q6. Determine the sum of the \"TAX CLASS AT THE TIME OF SALE\" whose \"SALE PRICE\" exceeds 510000. \n",
        "\n",
        "Calculate the \"TAX CLASS AT THE TIME OF SALE\" amount for each instance when the \"SALE PRICE\" is more than 510000 but lower than 290000.**"
      ],
      "metadata": {
        "id": "yQmn9BmFswqr"
      }
    },
    {
      "cell_type": "code",
      "source": [
        "#Determine the sum of the \"TAX CLASS AT THE TIME OF SALE\" whose \"SALE PRICE\" exceeds 510000. Calculate the \"TAX CLASS AT THE TIME OF SALE\" amount for each instance when the \"SALE PRICE\" is more than 510000 but lower than 290000.\n",
        "\n",
        "print(df.TAX_CLASS_AT_TIME_OF_SALE.loc[(df[\"SALE_PRICE\"]>510000)].sum())"
      ],
      "metadata": {
        "colab": {
          "base_uri": "https://localhost:8080/"
        },
        "id": "75lBOQDkVk4A",
        "outputId": "aebc22fb-e9dc-476b-8aab-d4ce71ab31b5"
      },
      "execution_count": 36,
      "outputs": [
        {
          "output_type": "stream",
          "name": "stdout",
          "text": [
            "5617.0\n"
          ]
        }
      ]
    },
    {
      "cell_type": "code",
      "source": [
        "filtered_df = df[(df['SALE_PRICE'] > 510000) & (df['SALE_PRICE'] < 290000)]\n",
        "\n",
        "tax_class_amount = (filtered_df['TAX_CLASS_AT_TIME_OF_SALE'] * filtered_df['SALE_PRICE']).sum()\n",
        "\n",
        "print(\"Total TAX CLASS AT TIME OF SALE amount for SALE PRICE between 510000 and 290000:\", tax_class_amount)"
      ],
      "metadata": {
        "colab": {
          "base_uri": "https://localhost:8080/"
        },
        "id": "8uHPdgnpRkVI",
        "outputId": "b2e708ef-fbf0-4c1c-cc66-776fc26e30ca"
      },
      "execution_count": 37,
      "outputs": [
        {
          "output_type": "stream",
          "name": "stdout",
          "text": [
            "Total TAX CLASS AT TIME OF SALE amount for SALE PRICE between 510000 and 290000: 0.0\n"
          ]
        }
      ]
    },
    {
      "cell_type": "markdown",
      "source": [
        "*Calculate the \"TAX CLASS AT THE TIME OF SALE\" amount for each instance when the \"SALE PRICE\" is less than 510000 but more than 290000.*"
      ],
      "metadata": {
        "id": "vzKill45tBaU"
      }
    },
    {
      "cell_type": "code",
      "source": [
        "filtered_df = df[(df['SALE_PRICE'] < 510000) & (df['SALE_PRICE'] > 290000)]\n",
        "\n",
        "tax_class_amount = (filtered_df['TAX_CLASS_AT_TIME_OF_SALE'] * filtered_df['SALE_PRICE']).sum()\n",
        "\n",
        "print(\"Total TAX CLASS AT TIME OF SALE amount for SALE PRICE between 510000 and 290000:\", tax_class_amount)"
      ],
      "metadata": {
        "colab": {
          "base_uri": "https://localhost:8080/"
        },
        "id": "4Dzubv-iSaSB",
        "outputId": "5f408c86-f522-4237-e361-0b352b0043cc"
      },
      "execution_count": 38,
      "outputs": [
        {
          "output_type": "stream",
          "name": "stdout",
          "text": [
            "Total TAX CLASS AT TIME OF SALE amount for SALE PRICE between 510000 and 290000: 926138782.0\n"
          ]
        }
      ]
    },
    {
      "cell_type": "markdown",
      "source": [
        "***PART B***"
      ],
      "metadata": {
        "id": "aIzPOxl8tkW6"
      }
    },
    {
      "cell_type": "markdown",
      "source": [
        "**Q1. Use any of the shared data's columns to create the following graphs in Python with Seaborn. \n",
        "Line chart, Pie chart, Bar graph, Scatter Plot, Histogram**"
      ],
      "metadata": {
        "id": "kOqwipqetsIp"
      }
    },
    {
      "cell_type": "markdown",
      "source": [
        "**LINE CHART**"
      ],
      "metadata": {
        "id": "FQT4tmCpt4NG"
      }
    },
    {
      "cell_type": "code",
      "source": [
        "#Use any of the shared data's columns to create the following graphs in Python with Seaborn. \n",
        "#Line chart\n",
        " \n",
        "import seaborn as sns\n",
        "sns.lineplot(x=\"GROSS_SQUARE_FEET\", y=\"SALE_PRICE\" , data=df)"
      ],
      "metadata": {
        "colab": {
          "base_uri": "https://localhost:8080/",
          "height": 308
        },
        "id": "_FkR4v9BS0wK",
        "outputId": "8a06113a-c3c7-4cf5-abba-7529fa1a470d"
      },
      "execution_count": 39,
      "outputs": [
        {
          "output_type": "execute_result",
          "data": {
            "text/plain": [
              "<matplotlib.axes._subplots.AxesSubplot at 0x7fc17af84b50>"
            ]
          },
          "metadata": {},
          "execution_count": 39
        },
        {
          "output_type": "display_data",
          "data": {
            "text/plain": [
              "<Figure size 432x288 with 1 Axes>"
            ],
            "image/png": "[encoded data removed]"
          },
          "metadata": {
            "needs_background": "light"
          }
        }
      ]
    },
    {
      "cell_type": "markdown",
      "source": [
        "**PIE CHART**"
      ],
      "metadata": {
        "id": "C7qtxxy1uuz1"
      }
    },
    {
      "cell_type": "code",
      "source": [
        "df"
      ],
      "metadata": {
        "colab": {
          "base_uri": "https://localhost:8080/",
          "height": 973
        },
        "id": "gbM-BLWRepm_",
        "outputId": "c522e032-c233-4ba0-aafd-1828856dc1d7"
      },
      "execution_count": 57,
      "outputs": [
        {
          "output_type": "execute_result",
          "data": {
            "text/plain": [
              "       Sales BOROUGH        NEIGHBORHOOD  \\\n",
              "0          4       1       ALPHABET CITY   \n",
              "3          7       1       ALPHABET CITY   \n",
              "4          8       1       ALPHABET CITY   \n",
              "6         10       1       ALPHABET CITY   \n",
              "9         13       1       ALPHABET CITY   \n",
              "...      ...     ...                 ...   \n",
              "27284   1933       3  BEDFORD STUYVESANT   \n",
              "27285   1934       3  BEDFORD STUYVESANT   \n",
              "27286   1935       3  BEDFORD STUYVESANT   \n",
              "27287   1936       3  BEDFORD STUYVESANT   \n",
              "27288   1937       3  BEDFORD STUYVESANT   \n",
              "\n",
              "                           BUILDING CLASS CATEGORY TAX CLASS AT PRESENT  \\\n",
              "0      07 RENTALS - WALKUP APARTMENTS                                2A   \n",
              "3      07 RENTALS - WALKUP APARTMENTS                                2B   \n",
              "4      07 RENTALS - WALKUP APARTMENTS                                2A   \n",
              "6      07 RENTALS - WALKUP APARTMENTS                                2B   \n",
              "9      08 RENTALS - ELEVATOR APARTMENTS                               2   \n",
              "...                                            ...                  ...   \n",
              "27284  05 TAX CLASS 1 VACANT LAND                                    1B   \n",
              "27285  05 TAX CLASS 1 VACANT LAND                                    1B   \n",
              "27286  05 TAX CLASS 1 VACANT LAND                                    1B   \n",
              "27287  05 TAX CLASS 1 VACANT LAND                                    1B   \n",
              "27288  05 TAX CLASS 1 VACANT LAND                                    1B   \n",
              "\n",
              "       BLOCK  LOT EASE-MENT BUILDING_CLASS_AT_PRESENT                 ADDRESS  \\\n",
              "0        392    6                                  C2            153 AVENUE B   \n",
              "3        402   21                                  C4     154 EAST 7TH STREET   \n",
              "4        404   55                                  C2  301 EAST 10TH   STREET   \n",
              "6        406   32                                  C4            210 AVENUE B   \n",
              "9        387  153                                  D9     629 EAST 5TH STREET   \n",
              "...      ...  ...       ...                       ...                     ...   \n",
              "27284   1709    4                                  V0     47 ROCHESTER AVENUE   \n",
              "27285   1763   51                                  V0         218 WALWORTH ST   \n",
              "27286   1772   53                                  V0      197 PULASKI STREET   \n",
              "27287   1772   59                                  V0      187 PULASKI STREET   \n",
              "27288   1786   51                                  V0        LAFAYETTE AVENUE   \n",
              "\n",
              "       ... RESIDENTIAL_UNITS  COMMERCIAL UNITS  TOTAL UNITS  LAND SQUARE FEET  \\\n",
              "0      ...          5.000000                 0            5            1633.0   \n",
              "3      ...         10.000000                 0           10            2272.0   \n",
              "4      ...          6.000000                 0            6            2369.0   \n",
              "6      ...          8.000000                 0            8            1750.0   \n",
              "9      ...         24.000000                 0           24            4489.0   \n",
              "...    ...               ...               ...          ...               ...   \n",
              "27284  ...          2.275083                 0            0            1269.0   \n",
              "27285  ...          2.275083                 0            0            2000.0   \n",
              "27286  ...          2.275083                 0            0            2025.0   \n",
              "27287  ...          2.275083                 0            0            2000.0   \n",
              "27288  ...          2.275083                 0            0            1400.0   \n",
              "\n",
              "       GROSS_SQUARE_FEET  YEAR_BUILT  TAX_CLASS_AT_TIME_OF_SALE  \\\n",
              "0                 6440.0      1900.0                        2.0   \n",
              "3                 6794.0      1913.0                        2.0   \n",
              "4                 4615.0      1900.0                        2.0   \n",
              "6                 4226.0      1920.0                        2.0   \n",
              "9                18523.0      1920.0                        2.0   \n",
              "...                  ...         ...                        ...   \n",
              "27284                0.0         0.0                        1.0   \n",
              "27285                0.0         0.0                        1.0   \n",
              "27286                0.0         0.0                        1.0   \n",
              "27287                0.0         0.0                        1.0   \n",
              "27288                0.0         0.0                        1.0   \n",
              "\n",
              "       BUILDING CLASS AT TIME OF SALE  SALE_PRICE      SALE DATE  \n",
              "0                                  C2   6625000.0   7/19/17 0:00  \n",
              "3                                  C4   3936272.0   9/23/16 0:00  \n",
              "4                                  C2   8000000.0  11/17/16 0:00  \n",
              "6                                  C4   3192840.0   9/23/16 0:00  \n",
              "9                                  D9  16232000.0   11/7/16 0:00  \n",
              "...                               ...         ...            ...  \n",
              "27284                              V0    325000.0    7/7/17 0:00  \n",
              "27285                              V0   1350000.0    3/8/17 0:00  \n",
              "27286                              V0     50000.0   9/27/16 0:00  \n",
              "27287                              V0    580000.0   12/1/16 0:00  \n",
              "27288                              V0   1100000.0    5/5/17 0:00  \n",
              "\n",
              "[9993 rows x 22 columns]"
            ],
            "text/html": [
              "\n",
              "  <div id=\"df-50ce1e3c-19b0-4bb6-b29c-049a6715c5d7\">\n",
              "    <div class=\"colab-df-container\">\n",
              "      <div>\n",
              "<style scoped>\n",
              "    .dataframe tbody tr th:only-of-type {\n",
              "        vertical-align: middle;\n",
              "    }\n",
              "\n",
              "    .dataframe tbody tr th {\n",
              "        vertical-align: top;\n",
              "    }\n",
              "\n",
              "    .dataframe thead th {\n",
              "        text-align: right;\n",
              "    }\n",
              "</style>\n",
              "<table border=\"1\" class=\"dataframe\">\n",
              "  <thead>\n",
              "    <tr style=\"text-align: right;\">\n",
              "      <th></th>\n",
              "      <th>Sales</th>\n",
              "      <th>BOROUGH</th>\n",
              "      <th>NEIGHBORHOOD</th>\n",
              "      <th>BUILDING CLASS CATEGORY</th>\n",
              "      <th>TAX CLASS AT PRESENT</th>\n",
              "      <th>BLOCK</th>\n",
              "      <th>LOT</th>\n",
              "      <th>EASE-MENT</th>\n",
              "      <th>BUILDING_CLASS_AT_PRESENT</th>\n",
              "      <th>ADDRESS</th>\n",
              "      <th>...</th>\n",
              "      <th>RESIDENTIAL_UNITS</th>\n",
              "      <th>COMMERCIAL UNITS</th>\n",
              "      <th>TOTAL UNITS</th>\n",
              "      <th>LAND SQUARE FEET</th>\n",
              "      <th>GROSS_SQUARE_FEET</th>\n",
              "      <th>YEAR_BUILT</th>\n",
              "      <th>TAX_CLASS_AT_TIME_OF_SALE</th>\n",
              "      <th>BUILDING CLASS AT TIME OF SALE</th>\n",
              "      <th>SALE_PRICE</th>\n",
              "      <th>SALE DATE</th>\n",
              "    </tr>\n",
              "  </thead>\n",
              "  <tbody>\n",
              "    <tr>\n",
              "      <th>0</th>\n",
              "      <td>4</td>\n",
              "      <td>1</td>\n",
              "      <td>ALPHABET CITY</td>\n",
              "      <td>07 RENTALS - WALKUP APARTMENTS</td>\n",
              "      <td>2A</td>\n",
              "      <td>392</td>\n",
              "      <td>6</td>\n",
              "      <td></td>\n",
              "      <td>C2</td>\n",
              "      <td>153 AVENUE B</td>\n",
              "      <td>...</td>\n",
              "      <td>5.000000</td>\n",
              "      <td>0</td>\n",
              "      <td>5</td>\n",
              "      <td>1633.0</td>\n",
              "      <td>6440.0</td>\n",
              "      <td>1900.0</td>\n",
              "      <td>2.0</td>\n",
              "      <td>C2</td>\n",
              "      <td>6625000.0</td>\n",
              "      <td>7/19/17 0:00</td>\n",
              "    </tr>\n",
              "    <tr>\n",
              "      <th>3</th>\n",
              "      <td>7</td>\n",
              "      <td>1</td>\n",
              "      <td>ALPHABET CITY</td>\n",
              "      <td>07 RENTALS - WALKUP APARTMENTS</td>\n",
              "      <td>2B</td>\n",
              "      <td>402</td>\n",
              "      <td>21</td>\n",
              "      <td></td>\n",
              "      <td>C4</td>\n",
              "      <td>154 EAST 7TH STREET</td>\n",
              "      <td>...</td>\n",
              "      <td>10.000000</td>\n",
              "      <td>0</td>\n",
              "      <td>10</td>\n",
              "      <td>2272.0</td>\n",
              "      <td>6794.0</td>\n",
              "      <td>1913.0</td>\n",
              "      <td>2.0</td>\n",
              "      <td>C4</td>\n",
              "      <td>3936272.0</td>\n",
              "      <td>9/23/16 0:00</td>\n",
              "    </tr>\n",
              "    <tr>\n",
              "      <th>4</th>\n",
              "      <td>8</td>\n",
              "      <td>1</td>\n",
              "      <td>ALPHABET CITY</td>\n",
              "      <td>07 RENTALS - WALKUP APARTMENTS</td>\n",
              "      <td>2A</td>\n",
              "      <td>404</td>\n",
              "      <td>55</td>\n",
              "      <td></td>\n",
              "      <td>C2</td>\n",
              "      <td>301 EAST 10TH   STREET</td>\n",
              "      <td>...</td>\n",
              "      <td>6.000000</td>\n",
              "      <td>0</td>\n",
              "      <td>6</td>\n",
              "      <td>2369.0</td>\n",
              "      <td>4615.0</td>\n",
              "      <td>1900.0</td>\n",
              "      <td>2.0</td>\n",
              "      <td>C2</td>\n",
              "      <td>8000000.0</td>\n",
              "      <td>11/17/16 0:00</td>\n",
              "    </tr>\n",
              "    <tr>\n",
              "      <th>6</th>\n",
              "      <td>10</td>\n",
              "      <td>1</td>\n",
              "      <td>ALPHABET CITY</td>\n",
              "      <td>07 RENTALS - WALKUP APARTMENTS</td>\n",
              "      <td>2B</td>\n",
              "      <td>406</td>\n",
              "      <td>32</td>\n",
              "      <td></td>\n",
              "      <td>C4</td>\n",
              "      <td>210 AVENUE B</td>\n",
              "      <td>...</td>\n",
              "      <td>8.000000</td>\n",
              "      <td>0</td>\n",
              "      <td>8</td>\n",
              "      <td>1750.0</td>\n",
              "      <td>4226.0</td>\n",
              "      <td>1920.0</td>\n",
              "      <td>2.0</td>\n",
              "      <td>C4</td>\n",
              "      <td>3192840.0</td>\n",
              "      <td>9/23/16 0:00</td>\n",
              "    </tr>\n",
              "    <tr>\n",
              "      <th>9</th>\n",
              "      <td>13</td>\n",
              "      <td>1</td>\n",
              "      <td>ALPHABET CITY</td>\n",
              "      <td>08 RENTALS - ELEVATOR APARTMENTS</td>\n",
              "      <td>2</td>\n",
              "      <td>387</td>\n",
              "      <td>153</td>\n",
              "      <td></td>\n",
              "      <td>D9</td>\n",
              "      <td>629 EAST 5TH STREET</td>\n",
              "      <td>...</td>\n",
              "      <td>24.000000</td>\n",
              "      <td>0</td>\n",
              "      <td>24</td>\n",
              "      <td>4489.0</td>\n",
              "      <td>18523.0</td>\n",
              "      <td>1920.0</td>\n",
              "      <td>2.0</td>\n",
              "      <td>D9</td>\n",
              "      <td>16232000.0</td>\n",
              "      <td>11/7/16 0:00</td>\n",
              "    </tr>\n",
              "    <tr>\n",
              "      <th>...</th>\n",
              "      <td>...</td>\n",
              "      <td>...</td>\n",
              "      <td>...</td>\n",
              "      <td>...</td>\n",
              "      <td>...</td>\n",
              "      <td>...</td>\n",
              "      <td>...</td>\n",
              "      <td>...</td>\n",
              "      <td>...</td>\n",
              "      <td>...</td>\n",
              "      <td>...</td>\n",
              "      <td>...</td>\n",
              "      <td>...</td>\n",
              "      <td>...</td>\n",
              "      <td>...</td>\n",
              "      <td>...</td>\n",
              "      <td>...</td>\n",
              "      <td>...</td>\n",
              "      <td>...</td>\n",
              "      <td>...</td>\n",
              "      <td>...</td>\n",
              "    </tr>\n",
              "    <tr>\n",
              "      <th>27284</th>\n",
              "      <td>1933</td>\n",
              "      <td>3</td>\n",
              "      <td>BEDFORD STUYVESANT</td>\n",
              "      <td>05 TAX CLASS 1 VACANT LAND</td>\n",
              "      <td>1B</td>\n",
              "      <td>1709</td>\n",
              "      <td>4</td>\n",
              "      <td></td>\n",
              "      <td>V0</td>\n",
              "      <td>47 ROCHESTER AVENUE</td>\n",
              "      <td>...</td>\n",
              "      <td>2.275083</td>\n",
              "      <td>0</td>\n",
              "      <td>0</td>\n",
              "      <td>1269.0</td>\n",
              "      <td>0.0</td>\n",
              "      <td>0.0</td>\n",
              "      <td>1.0</td>\n",
              "      <td>V0</td>\n",
              "      <td>325000.0</td>\n",
              "      <td>7/7/17 0:00</td>\n",
              "    </tr>\n",
              "    <tr>\n",
              "      <th>27285</th>\n",
              "      <td>1934</td>\n",
              "      <td>3</td>\n",
              "      <td>BEDFORD STUYVESANT</td>\n",
              "      <td>05 TAX CLASS 1 VACANT LAND</td>\n",
              "      <td>1B</td>\n",
              "      <td>1763</td>\n",
              "      <td>51</td>\n",
              "      <td></td>\n",
              "      <td>V0</td>\n",
              "      <td>218 WALWORTH ST</td>\n",
              "      <td>...</td>\n",
              "      <td>2.275083</td>\n",
              "      <td>0</td>\n",
              "      <td>0</td>\n",
              "      <td>2000.0</td>\n",
              "      <td>0.0</td>\n",
              "      <td>0.0</td>\n",
              "      <td>1.0</td>\n",
              "      <td>V0</td>\n",
              "      <td>1350000.0</td>\n",
              "      <td>3/8/17 0:00</td>\n",
              "    </tr>\n",
              "    <tr>\n",
              "      <th>27286</th>\n",
              "      <td>1935</td>\n",
              "      <td>3</td>\n",
              "      <td>BEDFORD STUYVESANT</td>\n",
              "      <td>05 TAX CLASS 1 VACANT LAND</td>\n",
              "      <td>1B</td>\n",
              "      <td>1772</td>\n",
              "      <td>53</td>\n",
              "      <td></td>\n",
              "      <td>V0</td>\n",
              "      <td>197 PULASKI STREET</td>\n",
              "      <td>...</td>\n",
              "      <td>2.275083</td>\n",
              "      <td>0</td>\n",
              "      <td>0</td>\n",
              "      <td>2025.0</td>\n",
              "      <td>0.0</td>\n",
              "      <td>0.0</td>\n",
              "      <td>1.0</td>\n",
              "      <td>V0</td>\n",
              "      <td>50000.0</td>\n",
              "      <td>9/27/16 0:00</td>\n",
              "    </tr>\n",
              "    <tr>\n",
              "      <th>27287</th>\n",
              "      <td>1936</td>\n",
              "      <td>3</td>\n",
              "      <td>BEDFORD STUYVESANT</td>\n",
              "      <td>05 TAX CLASS 1 VACANT LAND</td>\n",
              "      <td>1B</td>\n",
              "      <td>1772</td>\n",
              "      <td>59</td>\n",
              "      <td></td>\n",
              "      <td>V0</td>\n",
              "      <td>187 PULASKI STREET</td>\n",
              "      <td>...</td>\n",
              "      <td>2.275083</td>\n",
              "      <td>0</td>\n",
              "      <td>0</td>\n",
              "      <td>2000.0</td>\n",
              "      <td>0.0</td>\n",
              "      <td>0.0</td>\n",
              "      <td>1.0</td>\n",
              "      <td>V0</td>\n",
              "      <td>580000.0</td>\n",
              "      <td>12/1/16 0:00</td>\n",
              "    </tr>\n",
              "    <tr>\n",
              "      <th>27288</th>\n",
              "      <td>1937</td>\n",
              "      <td>3</td>\n",
              "      <td>BEDFORD STUYVESANT</td>\n",
              "      <td>05 TAX CLASS 1 VACANT LAND</td>\n",
              "      <td>1B</td>\n",
              "      <td>1786</td>\n",
              "      <td>51</td>\n",
              "      <td></td>\n",
              "      <td>V0</td>\n",
              "      <td>LAFAYETTE AVENUE</td>\n",
              "      <td>...</td>\n",
              "      <td>2.275083</td>\n",
              "      <td>0</td>\n",
              "      <td>0</td>\n",
              "      <td>1400.0</td>\n",
              "      <td>0.0</td>\n",
              "      <td>0.0</td>\n",
              "      <td>1.0</td>\n",
              "      <td>V0</td>\n",
              "      <td>1100000.0</td>\n",
              "      <td>5/5/17 0:00</td>\n",
              "    </tr>\n",
              "  </tbody>\n",
              "</table>\n",
              "<p>9993 rows × 22 columns</p>\n",
              "</div>\n",
              "      <button class=\"colab-df-convert\" onclick=\"convertToInteractive('df-50ce1e3c-19b0-4bb6-b29c-049a6715c5d7')\"\n",
              "              title=\"Convert this dataframe to an interactive table.\"\n",
              "              style=\"display:none;\">\n",
              "        \n",
              "  <svg xmlns=\"http://www.w3.org/2000/svg\" height=\"24px\"viewBox=\"0 0 24 24\"\n",
              "       width=\"24px\">\n",
              "    <path d=\"M0 0h24v24H0V0z\" fill=\"none\"/>\n",
              "    <path d=\"M18.56 5.44l.94 2.06.94-2.06 2.06-.94-2.06-.94-.94-2.06-.94 2.06-2.06.94zm-11 1L8.5 8.5l.94-2.06 2.06-.94-2.06-.94L8.5 2.5l-.94 2.06-2.06.94zm10 10l.94 2.06.94-2.06 2.06-.94-2.06-.94-.94-2.06-.94 2.06-2.06.94z\"/><path d=\"M17.41 7.96l-1.37-1.37c-.4-.4-.92-.59-1.43-.59-.52 0-1.04.2-1.43.59L10.3 9.45l-7.72 7.72c-.78.78-.78 2.05 0 2.83L4 21.41c.39.39.9.59 1.41.59.51 0 1.02-.2 1.41-.59l7.78-7.78 2.81-2.81c.8-.78.8-2.07 0-2.86zM5.41 20L4 18.59l7.72-7.72 1.47 1.35L5.41 20z\"/>\n",
              "  </svg>\n",
              "      </button>\n",
              "      \n",
              "  <style>\n",
              "    .colab-df-container {\n",
              "      display:flex;\n",
              "      flex-wrap:wrap;\n",
              "      gap: 12px;\n",
              "    }\n",
              "\n",
              "    .colab-df-convert {\n",
              "      background-color: #E8F0FE;\n",
              "      border: none;\n",
              "      border-radius: 50%;\n",
              "      cursor: pointer;\n",
              "      display: none;\n",
              "      fill: #1967D2;\n",
              "      height: 32px;\n",
              "      padding: 0 0 0 0;\n",
              "      width: 32px;\n",
              "    }\n",
              "\n",
              "    .colab-df-convert:hover {\n",
              "      background-color: #E2EBFA;\n",
              "      box-shadow: 0px 1px 2px rgba(60, 64, 67, 0.3), 0px 1px 3px 1px rgba(60, 64, 67, 0.15);\n",
              "      fill: #174EA6;\n",
              "    }\n",
              "\n",
              "    [theme=dark] .colab-df-convert {\n",
              "      background-color: #3B4455;\n",
              "      fill: #D2E3FC;\n",
              "    }\n",
              "\n",
              "    [theme=dark] .colab-df-convert:hover {\n",
              "      background-color: #434B5C;\n",
              "      box-shadow: 0px 1px 3px 1px rgba(0, 0, 0, 0.15);\n",
              "      filter: drop-shadow(0px 1px 2px rgba(0, 0, 0, 0.3));\n",
              "      fill: #FFFFFF;\n",
              "    }\n",
              "  </style>\n",
              "\n",
              "      <script>\n",
              "        const buttonEl =\n",
              "          document.querySelector('#df-50ce1e3c-19b0-4bb6-b29c-049a6715c5d7 button.colab-df-convert');\n",
              "        buttonEl.style.display =\n",
              "          google.colab.kernel.accessAllowed ? 'block' : 'none';\n",
              "\n",
              "        async function convertToInteractive(key) {\n",
              "          const element = document.querySelector('#df-50ce1e3c-19b0-4bb6-b29c-049a6715c5d7');\n",
              "          const dataTable =\n",
              "            await google.colab.kernel.invokeFunction('convertToInteractive',\n",
              "                                                     [key], {});\n",
              "          if (!dataTable) return;\n",
              "\n",
              "          const docLinkHtml = 'Like what you see? Visit the ' +\n",
              "            '<a target=\"_blank\" href=https://colab.research.google.com/notebooks/data_table.ipynb>data table notebook</a>'\n",
              "            + ' to learn more about interactive tables.';\n",
              "          element.innerHTML = '';\n",
              "          dataTable['output_type'] = 'display_data';\n",
              "          await google.colab.output.renderOutput(dataTable, element);\n",
              "          const docLink = document.createElement('div');\n",
              "          docLink.innerHTML = docLinkHtml;\n",
              "          element.appendChild(docLink);\n",
              "        }\n",
              "      </script>\n",
              "    </div>\n",
              "  </div>\n",
              "  "
            ]
          },
          "metadata": {},
          "execution_count": 57
        }
      ]
    },
    {
      "cell_type": "code",
      "source": [
        "#Pie chart\n",
        "\n",
        "color = sns.color_palette('bright')\n",
        "gb = df.groupby(by = \"TAX_CLASS_AT_TIME_OF_SALE\")\n",
        "\n",
        "plt.title(\"Total Sales for each Tax Class at time of Sales\")\n",
        "plt.pie(gb.SALE_PRICE.sum(), labels = gb.TAX_CLASS_AT_TIME_OF_SALE.max(), colors = color, autopct='%.0f%%')\n",
        "plt.show()\n"
      ],
      "metadata": {
        "id": "ra_Oc3X7S04g",
        "colab": {
          "base_uri": "https://localhost:8080/",
          "height": 264
        },
        "outputId": "fdf19677-cd3e-44a6-9afe-11930f414dd7"
      },
      "execution_count": 63,
      "outputs": [
        {
          "output_type": "display_data",
          "data": {
            "text/plain": [
              "<Figure size 432x288 with 1 Axes>"
            ],
            "image/png": "[encoded data removed]"
          },
          "metadata": {}
        }
      ]
    },
    {
      "cell_type": "markdown",
      "source": [
        "**BAR GRAPH**"
      ],
      "metadata": {
        "id": "Rm-4TTr3uzIJ"
      }
    },
    {
      "cell_type": "code",
      "source": [
        "#Bar graph\n",
        "sns.barplot(data=df, x=\"BOROUGH\", y=\"SALE_PRICE\")"
      ],
      "metadata": {
        "colab": {
          "base_uri": "https://localhost:8080/",
          "height": 307
        },
        "id": "HBhW0b_GbD07",
        "outputId": "621b6d68-1661-4eae-ff2a-f2f671f809ae"
      },
      "execution_count": 64,
      "outputs": [
        {
          "output_type": "execute_result",
          "data": {
            "text/plain": [
              "<matplotlib.axes._subplots.AxesSubplot at 0x7fc178eb9df0>"
            ]
          },
          "metadata": {},
          "execution_count": 64
        },
        {
          "output_type": "display_data",
          "data": {
            "text/plain": [
              "<Figure size 432x288 with 1 Axes>"
            ],
            "image/png": "[encoded data removed]"
          },
          "metadata": {
            "needs_background": "light"
          }
        }
      ]
    },
    {
      "cell_type": "markdown",
      "source": [
        "**SCATTER PLOT**"
      ],
      "metadata": {
        "id": "VRva7Ng6u4UN"
      }
    },
    {
      "cell_type": "code",
      "source": [
        "#Scatter Plot\n",
        "sns.scatterplot(x=df.GROSS_SQUARE_FEET, y=df.SALE_PRICE, data=df)"
      ],
      "metadata": {
        "colab": {
          "base_uri": "https://localhost:8080/",
          "height": 308
        },
        "id": "o-uFnme-c_3_",
        "outputId": "c6e952ce-eeca-4517-c2db-f1a2990082ca"
      },
      "execution_count": 65,
      "outputs": [
        {
          "output_type": "execute_result",
          "data": {
            "text/plain": [
              "<matplotlib.axes._subplots.AxesSubplot at 0x7fc178e16e20>"
            ]
          },
          "metadata": {},
          "execution_count": 65
        },
        {
          "output_type": "display_data",
          "data": {
            "text/plain": [
              "<Figure size 432x288 with 1 Axes>"
            ],
            "image/png": "[encoded data removed]"
          },
          "metadata": {
            "needs_background": "light"
          }
        }
      ]
    },
    {
      "cell_type": "markdown",
      "source": [
        "**HISTOGRAM**"
      ],
      "metadata": {
        "id": "mHby1Cdiu_P4"
      }
    },
    {
      "cell_type": "code",
      "source": [
        "#Histogram\n",
        "sns.histplot(data = df['BOROUGH'], kde = True)"
      ],
      "metadata": {
        "id": "2Qqf6yNDdBWV",
        "colab": {
          "base_uri": "https://localhost:8080/",
          "height": 296
        },
        "outputId": "8943c883-659b-44b6-e60b-fb5249c3ba4a"
      },
      "execution_count": 66,
      "outputs": [
        {
          "output_type": "execute_result",
          "data": {
            "text/plain": [
              "<matplotlib.axes._subplots.AxesSubplot at 0x7fc178df1160>"
            ]
          },
          "metadata": {},
          "execution_count": 66
        },
        {
          "output_type": "display_data",
          "data": {
            "text/plain": [
              "<Figure size 432x288 with 1 Axes>"
            ],
            "image/png": "[encoded data removed]"
          },
          "metadata": {
            "needs_background": "light"
          }
        }
      ]
    },
    {
      "cell_type": "markdown",
      "source": [
        "**Q2. Distinguish the difference between accumulate() and product() using some example.**"
      ],
      "metadata": {
        "id": "T8lakVGMvDuI"
      }
    },
    {
      "cell_type": "markdown",
      "source": [
        "*ACCUMULATE*"
      ],
      "metadata": {
        "id": "LJ0CLvl0vWst"
      }
    },
    {
      "cell_type": "code",
      "source": [
        "#Distinguish the difference between accumulate() and product() using some example.\n",
        "from itertools import accumulate\n",
        "data = [0,1,0,1,1,2]\n",
        "print(tuple(accumulate(data))) #commulative sum"
      ],
      "metadata": {
        "colab": {
          "base_uri": "https://localhost:8080/"
        },
        "id": "pEL4kYeslf4Y",
        "outputId": "9605edfb-3982-44af-e780-4c850bb18bdb"
      },
      "execution_count": 67,
      "outputs": [
        {
          "output_type": "stream",
          "name": "stdout",
          "text": [
            "(0, 1, 1, 2, 3, 5)\n"
          ]
        }
      ]
    },
    {
      "cell_type": "markdown",
      "source": [
        "*PRODUCT*"
      ],
      "metadata": {
        "id": "9fxyxOpKvV_s"
      }
    },
    {
      "cell_type": "code",
      "source": [
        "from itertools import product\n",
        "for i in product('ABC','xyz'):\n",
        "  print(i) #used to make combinations"
      ],
      "metadata": {
        "colab": {
          "base_uri": "https://localhost:8080/"
        },
        "id": "SK5ZS-S5oJgA",
        "outputId": "06b44207-27c4-4a1e-e2ac-66c203f92612"
      },
      "execution_count": 68,
      "outputs": [
        {
          "output_type": "stream",
          "name": "stdout",
          "text": [
            "('A', 'x')\n",
            "('A', 'y')\n",
            "('A', 'z')\n",
            "('B', 'x')\n",
            "('B', 'y')\n",
            "('B', 'z')\n",
            "('C', 'x')\n",
            "('C', 'y')\n",
            "('C', 'z')\n"
          ]
        }
      ]
    },
    {
      "cell_type": "markdown",
      "source": [
        "**Q3. Create a lambda function to find product of first 100 numbers.**"
      ],
      "metadata": {
        "id": "SiprC2vbvppb"
      }
    },
    {
      "cell_type": "code",
      "source": [
        "#Create a lambda function to find product of first 100 numbers.\n",
        "p = lambda n: 1 if n == 0 else n * p(n-1)\n",
        "result = p(100)\n",
        "print(result)"
      ],
      "metadata": {
        "colab": {
          "base_uri": "https://localhost:8080/"
        },
        "id": "964nZOhzlhzP",
        "outputId": "3b2e67c0-619c-4fea-e6f5-f53982872394"
      },
      "execution_count": 69,
      "outputs": [
        {
          "output_type": "stream",
          "name": "stdout",
          "text": [
            "93326215443944152681699238856266700490715968264381621468592963895217599993229915608941463976156518286253697920827223758251185210916864000000000000000000000000\n"
          ]
        }
      ]
    },
    {
      "cell_type": "markdown",
      "source": [
        "**Q4. Create a sample data of normal distribution using Numpy and find the correlation.**"
      ],
      "metadata": {
        "id": "u653HAA3v0BS"
      }
    },
    {
      "cell_type": "code",
      "source": [
        "#Create a sample data of normal distribution using Numpy and find the correlation. \n",
        "import numpy as np\n",
        "data = np.random.normal(0, 1, (1000,2))\n",
        "corr = np.corrcoef(data[:,0], data[:,1])\n",
        "print(corr)"
      ],
      "metadata": {
        "colab": {
          "base_uri": "https://localhost:8080/"
        },
        "id": "B_Rq4Sx4liKD",
        "outputId": "4b19efcf-4c47-4a9c-ea6d-c5d8feb3db87"
      },
      "execution_count": 74,
      "outputs": [
        {
          "output_type": "stream",
          "name": "stdout",
          "text": [
            "[[ 1.         -0.08878778]\n",
            " [-0.08878778  1.        ]]\n"
          ]
        }
      ]
    }
  ]
}